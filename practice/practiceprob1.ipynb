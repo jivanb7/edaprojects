{
 "cells": [
  {
   "cell_type": "code",
   "execution_count": 4,
   "id": "8f86b08a",
   "metadata": {},
   "outputs": [
    {
     "name": "stdout",
     "output_type": "stream",
     "text": [
      "  First_Name Last_Name Age\n",
      "0       Mark     Goold  21\n",
      "1        Tom      Tran  24\n",
      "2  Alexander     Mohan  24\n"
     ]
    }
   ],
   "source": [
    "import pandas as pd\n",
    "import numpy as np\n",
    "\n",
    "data = {\n",
    "    'First_Name': ['Mark', 'Tom', 'Alexander'],\n",
    "    'Last_Name': ['Goold', 'Tran', 'Mohan'],\n",
    "    'Age': ['21', '24', '24']\n",
    "}\n",
    "\n",
    "df = pd.DataFrame(data)\n",
    "print(df)"
   ]
  },
  {
   "cell_type": "code",
   "execution_count": 5,
   "id": "6cd7a395",
   "metadata": {},
   "outputs": [
    {
     "name": "stdout",
     "output_type": "stream",
     "text": [
      "  First_Name Last_Name  Age\n",
      "0     Robert  Clements  NaN\n"
     ]
    }
   ],
   "source": [
    "new_data = {\n",
    "    'First_Name': 'Robert',\n",
    "    'Last_Name': 'Clements',\n",
    "    'Age': np.nan\n",
    "}\n",
    "\n",
    "df_newdata = pd.DataFrame([new_data])\n",
    "print(df_newdata)"
   ]
  },
  {
   "cell_type": "code",
   "execution_count": 6,
   "id": "7dab9bd4",
   "metadata": {},
   "outputs": [
    {
     "name": "stdout",
     "output_type": "stream",
     "text": [
      "  First_Name Last_Name  Age\n",
      "0       Mark     Goold   21\n",
      "1        Tom      Tran   24\n",
      "2  Alexander     Mohan   24\n",
      "0     Robert  Clements  NaN\n"
     ]
    }
   ],
   "source": [
    "df = pd.concat([df, df_newdata])\n",
    "print(df)"
   ]
  }
 ],
 "metadata": {
  "kernelspec": {
   "display_name": "eda",
   "language": "python",
   "name": "python3"
  },
  "language_info": {
   "codemirror_mode": {
    "name": "ipython",
    "version": 3
   },
   "file_extension": ".py",
   "mimetype": "text/x-python",
   "name": "python",
   "nbconvert_exporter": "python",
   "pygments_lexer": "ipython3",
   "version": "3.9.6"
  }
 },
 "nbformat": 4,
 "nbformat_minor": 5
}
