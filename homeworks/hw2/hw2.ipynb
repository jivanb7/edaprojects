{
 "cells": [
  {
   "cell_type": "code",
   "execution_count": 129,
   "id": "5909efb6",
   "metadata": {},
   "outputs": [],
   "source": [
    "import numpy as np\n",
    "import pandas as pd"
   ]
  },
  {
   "cell_type": "code",
   "execution_count": 130,
   "id": "606cdc99",
   "metadata": {},
   "outputs": [
    {
     "name": "stdout",
     "output_type": "stream",
     "text": [
      "shape: (13,)\n",
      "type: <class 'numpy.ndarray'>\n"
     ]
    }
   ],
   "source": [
    "# NUMBER 1\n",
    "data1 = np.arange(100,113)\n",
    "\n",
    "# NUMBER 1A\n",
    "print(\"shape:\", data1.shape)\n",
    "\n",
    "# NUMBER 1B\n",
    "print(\"type:\", type(data1)) \n",
    "\n"
   ]
  },
  {
   "cell_type": "code",
   "execution_count": 131,
   "id": "8e5b573d",
   "metadata": {},
   "outputs": [
    {
     "name": "stdout",
     "output_type": "stream",
     "text": [
      "[False False False False False False  True  True  True  True  True False\n",
      " False]\n"
     ]
    }
   ],
   "source": [
    "# NUMBER 1C\n",
    "\n",
    "boolean1 = (data1 > 105) & (data1 <= 110)\n",
    "print(boolean1)\n"
   ]
  },
  {
   "cell_type": "code",
   "execution_count": 132,
   "id": "5bb4adf9",
   "metadata": {},
   "outputs": [
    {
     "name": "stdout",
     "output_type": "stream",
     "text": [
      "[100 101 102 103 104 105   0   0   0   0   0 111 112]\n"
     ]
    }
   ],
   "source": [
    "# NUMBER 1D\n",
    "\n",
    "data1[boolean1] = 0\n",
    "print(data1)\n"
   ]
  },
  {
   "cell_type": "code",
   "execution_count": 133,
   "id": "e600165c",
   "metadata": {},
   "outputs": [
    {
     "name": "stdout",
     "output_type": "stream",
     "text": [
      "[0 0 0 0 0 0]\n"
     ]
    }
   ],
   "source": [
    "# NUMBER 1E\n",
    "data2 = data1[5:11].copy()\n",
    "data2[:] = 0\n",
    "print(data2)"
   ]
  },
  {
   "cell_type": "code",
   "execution_count": 161,
   "id": "b0c5158f",
   "metadata": {},
   "outputs": [
    {
     "data": {
      "text/html": [
       "<div>\n",
       "<style scoped>\n",
       "    .dataframe tbody tr th:only-of-type {\n",
       "        vertical-align: middle;\n",
       "    }\n",
       "\n",
       "    .dataframe tbody tr th {\n",
       "        vertical-align: top;\n",
       "    }\n",
       "\n",
       "    .dataframe thead th {\n",
       "        text-align: right;\n",
       "    }\n",
       "</style>\n",
       "<table border=\"1\" class=\"dataframe\">\n",
       "  <thead>\n",
       "    <tr style=\"text-align: right;\">\n",
       "      <th></th>\n",
       "      <th>0</th>\n",
       "      <th>1</th>\n",
       "      <th>2</th>\n",
       "    </tr>\n",
       "  </thead>\n",
       "  <tbody>\n",
       "    <tr>\n",
       "      <th>0</th>\n",
       "      <td>17</td>\n",
       "      <td>77</td>\n",
       "      <td>93</td>\n",
       "    </tr>\n",
       "    <tr>\n",
       "      <th>1</th>\n",
       "      <td>66</td>\n",
       "      <td>96</td>\n",
       "      <td>81</td>\n",
       "    </tr>\n",
       "    <tr>\n",
       "      <th>2</th>\n",
       "      <td>57</td>\n",
       "      <td>83</td>\n",
       "      <td>10</td>\n",
       "    </tr>\n",
       "    <tr>\n",
       "      <th>3</th>\n",
       "      <td>39</td>\n",
       "      <td>4</td>\n",
       "      <td>94</td>\n",
       "    </tr>\n",
       "  </tbody>\n",
       "</table>\n",
       "</div>"
      ],
      "text/plain": [
       "    0   1   2\n",
       "0  17  77  93\n",
       "1  66  96  81\n",
       "2  57  83  10\n",
       "3  39   4  94"
      ]
     },
     "execution_count": 161,
     "metadata": {},
     "output_type": "execute_result"
    }
   ],
   "source": [
    "# NUMBER 2\n",
    "\n",
    "random1 = np.random.randint(0, 100, size=(4,3))\n",
    "\n",
    "df_random1 = pd.DataFrame(random1)\n",
    "df_random1\n"
   ]
  },
  {
   "cell_type": "code",
   "execution_count": 162,
   "id": "8242c9a8",
   "metadata": {},
   "outputs": [
    {
     "data": {
      "text/plain": [
       "Row 1 Max    93\n",
       "Row 2 Max    96\n",
       "Row 3 Max    83\n",
       "Row 4 Max    94\n",
       "dtype: int64"
      ]
     },
     "execution_count": 162,
     "metadata": {},
     "output_type": "execute_result"
    }
   ],
   "source": [
    "ds1 = df_random1.iloc[0].max()\n",
    "ds2 = df_random1.iloc[1].max()\n",
    "ds3 = df_random1.iloc[2].max()\n",
    "ds4 = df_random1.iloc[3].max()\n",
    "\n",
    "ds_max = pd.Series((ds1, ds2, ds3, ds4), index=['Row 1 Max', \n",
    "                                                'Row 2 Max', 'Row 3 Max', 'Row 4 Max'])\n",
    "ds_max"
   ]
  },
  {
   "cell_type": "code",
   "execution_count": 136,
   "id": "f8e2d376",
   "metadata": {},
   "outputs": [
    {
     "data": {
      "text/plain": [
       "0    66\n",
       "1    45\n",
       "2    95\n",
       "3    59\n",
       "dtype: int64"
      ]
     },
     "execution_count": 136,
     "metadata": {},
     "output_type": "execute_result"
    }
   ],
   "source": [
    "max_random1 = np.max(df_random1, axis=1)\n",
    "max_random1"
   ]
  },
  {
   "cell_type": "code",
   "execution_count": 137,
   "id": "fa7b2455",
   "metadata": {},
   "outputs": [
    {
     "data": {
      "text/plain": [
       "0    1991\n",
       "1    1992\n",
       "2    1993\n",
       "3    1994\n",
       "4    1995\n",
       "5    1996\n",
       "6    1997\n",
       "7    1998\n",
       "8    1999\n",
       "9    2000\n",
       "dtype: int64"
      ]
     },
     "execution_count": 137,
     "metadata": {},
     "output_type": "execute_result"
    }
   ],
   "source": [
    "# NUMBER 3\n",
    "year = pd.Series([1991, 1992, 1993, 1994, 1995, \n",
    "                  1996, 1997, 1998, 1999, 2000])\n",
    "year"
   ]
  },
  {
   "cell_type": "code",
   "execution_count": 138,
   "id": "550aa822",
   "metadata": {},
   "outputs": [
    {
     "data": {
      "text/plain": [
       "10"
      ]
     },
     "execution_count": 138,
     "metadata": {},
     "output_type": "execute_result"
    }
   ],
   "source": [
    "# NUMBER 3A\n",
    "year.size"
   ]
  },
  {
   "cell_type": "code",
   "execution_count": 139,
   "id": "c52bb668",
   "metadata": {},
   "outputs": [
    {
     "data": {
      "text/plain": [
       "0    12.09\n",
       "1    12.35\n",
       "2    12.51\n",
       "3    10.25\n",
       "4    10.18\n",
       "5    10.59\n",
       "6    10.26\n",
       "7    10.48\n",
       "8     8.67\n",
       "9    10.23\n",
       "dtype: float64"
      ]
     },
     "execution_count": 139,
     "metadata": {},
     "output_type": "execute_result"
    }
   ],
   "source": [
    "# NUMBER 3B\n",
    "rainfall = pd.Series([12.09, 12.35, 12.51, 10.25,\n",
    "10.18, 10.59, 10.26, 10.48, 8.67, 10.23])\n",
    "rainfall"
   ]
  },
  {
   "cell_type": "code",
   "execution_count": 140,
   "id": "55940f61",
   "metadata": {},
   "outputs": [
    {
     "data": {
      "text/plain": [
       "0    1.107402\n",
       "1    1.324050\n",
       "2    1.457371\n",
       "3   -0.425796\n",
       "4   -0.484124\n",
       "5   -0.142487\n",
       "6   -0.417463\n",
       "7   -0.234146\n",
       "8   -1.742346\n",
       "9   -0.442461\n",
       "dtype: float64"
      ]
     },
     "execution_count": 140,
     "metadata": {},
     "output_type": "execute_result"
    }
   ],
   "source": [
    "# NUMBER 3C\n",
    "rainfall_normalized = (rainfall - rainfall.mean())/rainfall.std()\n",
    "rainfall_normalized"
   ]
  },
  {
   "cell_type": "code",
   "execution_count": 141,
   "id": "f6a84995",
   "metadata": {},
   "outputs": [
    {
     "data": {
      "text/html": [
       "<div>\n",
       "<style scoped>\n",
       "    .dataframe tbody tr th:only-of-type {\n",
       "        vertical-align: middle;\n",
       "    }\n",
       "\n",
       "    .dataframe tbody tr th {\n",
       "        vertical-align: top;\n",
       "    }\n",
       "\n",
       "    .dataframe thead th {\n",
       "        text-align: right;\n",
       "    }\n",
       "</style>\n",
       "<table border=\"1\" class=\"dataframe\">\n",
       "  <thead>\n",
       "    <tr style=\"text-align: right;\">\n",
       "      <th></th>\n",
       "      <th>year</th>\n",
       "      <th>rainfall</th>\n",
       "    </tr>\n",
       "  </thead>\n",
       "  <tbody>\n",
       "    <tr>\n",
       "      <th>0</th>\n",
       "      <td>1991</td>\n",
       "      <td>12.09</td>\n",
       "    </tr>\n",
       "    <tr>\n",
       "      <th>1</th>\n",
       "      <td>1992</td>\n",
       "      <td>12.35</td>\n",
       "    </tr>\n",
       "    <tr>\n",
       "      <th>2</th>\n",
       "      <td>1993</td>\n",
       "      <td>12.51</td>\n",
       "    </tr>\n",
       "    <tr>\n",
       "      <th>3</th>\n",
       "      <td>1994</td>\n",
       "      <td>10.25</td>\n",
       "    </tr>\n",
       "    <tr>\n",
       "      <th>4</th>\n",
       "      <td>1995</td>\n",
       "      <td>10.18</td>\n",
       "    </tr>\n",
       "    <tr>\n",
       "      <th>5</th>\n",
       "      <td>1996</td>\n",
       "      <td>10.59</td>\n",
       "    </tr>\n",
       "    <tr>\n",
       "      <th>6</th>\n",
       "      <td>1997</td>\n",
       "      <td>10.26</td>\n",
       "    </tr>\n",
       "    <tr>\n",
       "      <th>7</th>\n",
       "      <td>1998</td>\n",
       "      <td>10.48</td>\n",
       "    </tr>\n",
       "    <tr>\n",
       "      <th>8</th>\n",
       "      <td>1999</td>\n",
       "      <td>8.67</td>\n",
       "    </tr>\n",
       "    <tr>\n",
       "      <th>9</th>\n",
       "      <td>2000</td>\n",
       "      <td>10.23</td>\n",
       "    </tr>\n",
       "  </tbody>\n",
       "</table>\n",
       "</div>"
      ],
      "text/plain": [
       "   year  rainfall\n",
       "0  1991     12.09\n",
       "1  1992     12.35\n",
       "2  1993     12.51\n",
       "3  1994     10.25\n",
       "4  1995     10.18\n",
       "5  1996     10.59\n",
       "6  1997     10.26\n",
       "7  1998     10.48\n",
       "8  1999      8.67\n",
       "9  2000     10.23"
      ]
     },
     "execution_count": 141,
     "metadata": {},
     "output_type": "execute_result"
    }
   ],
   "source": [
    "# NUMBER 3D\n",
    "df_rainfall_values = pd.DataFrame({\n",
    "    'year': year,\n",
    "    'rainfall': rainfall\n",
    "})\n",
    "df_rainfall_values"
   ]
  },
  {
   "cell_type": "code",
   "execution_count": 142,
   "id": "7f7ce45c",
   "metadata": {},
   "outputs": [
    {
     "data": {
      "text/plain": [
       "3    1994\n",
       "4    1995\n",
       "5    1996\n",
       "6    1997\n",
       "7    1998\n",
       "8    1999\n",
       "9    2000\n",
       "Name: year, dtype: int64"
      ]
     },
     "execution_count": 142,
     "metadata": {},
     "output_type": "execute_result"
    }
   ],
   "source": [
    "df_rainfall_values[df_rainfall_values['rainfall'] < 11]['year']"
   ]
  },
  {
   "cell_type": "code",
   "execution_count": 143,
   "id": "d61ea0cd",
   "metadata": {},
   "outputs": [
    {
     "data": {
      "text/plain": [
       "0    12.09\n",
       "1    12.35\n",
       "2    12.51\n",
       "3    10.25\n",
       "4    10.18\n",
       "5      NaN\n",
       "6      NaN\n",
       "7      NaN\n",
       "8      NaN\n",
       "9      NaN\n",
       "Name: rainfall, dtype: float64"
      ]
     },
     "execution_count": 143,
     "metadata": {},
     "output_type": "execute_result"
    }
   ],
   "source": [
    "# NUMBER 3E\n",
    "df_rainfall_values.loc[df_rainfall_values['year'].between(1996, 2000), 'rainfall'] = np.nan\n",
    "df_rainfall_values['rainfall']"
   ]
  },
  {
   "cell_type": "code",
   "execution_count": 144,
   "id": "7ed61ab8",
   "metadata": {},
   "outputs": [
    {
     "data": {
      "text/html": [
       "<div>\n",
       "<style scoped>\n",
       "    .dataframe tbody tr th:only-of-type {\n",
       "        vertical-align: middle;\n",
       "    }\n",
       "\n",
       "    .dataframe tbody tr th {\n",
       "        vertical-align: top;\n",
       "    }\n",
       "\n",
       "    .dataframe thead th {\n",
       "        text-align: right;\n",
       "    }\n",
       "</style>\n",
       "<table border=\"1\" class=\"dataframe\">\n",
       "  <thead>\n",
       "    <tr style=\"text-align: right;\">\n",
       "      <th></th>\n",
       "      <th>year</th>\n",
       "      <th>rainfall</th>\n",
       "    </tr>\n",
       "  </thead>\n",
       "  <tbody>\n",
       "    <tr>\n",
       "      <th>0</th>\n",
       "      <td>1991</td>\n",
       "      <td>12.09</td>\n",
       "    </tr>\n",
       "    <tr>\n",
       "      <th>1</th>\n",
       "      <td>1992</td>\n",
       "      <td>12.35</td>\n",
       "    </tr>\n",
       "    <tr>\n",
       "      <th>2</th>\n",
       "      <td>1993</td>\n",
       "      <td>12.51</td>\n",
       "    </tr>\n",
       "    <tr>\n",
       "      <th>3</th>\n",
       "      <td>1994</td>\n",
       "      <td>10.25</td>\n",
       "    </tr>\n",
       "    <tr>\n",
       "      <th>4</th>\n",
       "      <td>1995</td>\n",
       "      <td>10.18</td>\n",
       "    </tr>\n",
       "    <tr>\n",
       "      <th>5</th>\n",
       "      <td>1996</td>\n",
       "      <td>0.00</td>\n",
       "    </tr>\n",
       "    <tr>\n",
       "      <th>6</th>\n",
       "      <td>1997</td>\n",
       "      <td>0.00</td>\n",
       "    </tr>\n",
       "    <tr>\n",
       "      <th>7</th>\n",
       "      <td>1998</td>\n",
       "      <td>0.00</td>\n",
       "    </tr>\n",
       "    <tr>\n",
       "      <th>8</th>\n",
       "      <td>1999</td>\n",
       "      <td>0.00</td>\n",
       "    </tr>\n",
       "    <tr>\n",
       "      <th>9</th>\n",
       "      <td>2000</td>\n",
       "      <td>0.00</td>\n",
       "    </tr>\n",
       "  </tbody>\n",
       "</table>\n",
       "</div>"
      ],
      "text/plain": [
       "   year  rainfall\n",
       "0  1991     12.09\n",
       "1  1992     12.35\n",
       "2  1993     12.51\n",
       "3  1994     10.25\n",
       "4  1995     10.18\n",
       "5  1996      0.00\n",
       "6  1997      0.00\n",
       "7  1998      0.00\n",
       "8  1999      0.00\n",
       "9  2000      0.00"
      ]
     },
     "execution_count": 144,
     "metadata": {},
     "output_type": "execute_result"
    }
   ],
   "source": [
    "# NUMBER 3F\n",
    "\n",
    "df_rainfall_values['rainfall'] = df_rainfall_values['rainfall'].fillna(0)\n",
    "df_rainfall_values"
   ]
  },
  {
   "cell_type": "code",
   "execution_count": 145,
   "id": "b99dcadd",
   "metadata": {},
   "outputs": [
    {
     "data": {
      "text/html": [
       "<div>\n",
       "<style scoped>\n",
       "    .dataframe tbody tr th:only-of-type {\n",
       "        vertical-align: middle;\n",
       "    }\n",
       "\n",
       "    .dataframe tbody tr th {\n",
       "        vertical-align: top;\n",
       "    }\n",
       "\n",
       "    .dataframe thead th {\n",
       "        text-align: right;\n",
       "    }\n",
       "</style>\n",
       "<table border=\"1\" class=\"dataframe\">\n",
       "  <thead>\n",
       "    <tr style=\"text-align: right;\">\n",
       "      <th></th>\n",
       "      <th>MPG</th>\n",
       "      <th>CYL</th>\n",
       "      <th>ENG</th>\n",
       "      <th>WGT</th>\n",
       "    </tr>\n",
       "  </thead>\n",
       "  <tbody>\n",
       "    <tr>\n",
       "      <th>0</th>\n",
       "      <td>18.0</td>\n",
       "      <td>8</td>\n",
       "      <td>307.0</td>\n",
       "      <td>3504</td>\n",
       "    </tr>\n",
       "    <tr>\n",
       "      <th>1</th>\n",
       "      <td>15.0</td>\n",
       "      <td>8</td>\n",
       "      <td>350.0</td>\n",
       "      <td>3693</td>\n",
       "    </tr>\n",
       "    <tr>\n",
       "      <th>2</th>\n",
       "      <td>18.0</td>\n",
       "      <td>8</td>\n",
       "      <td>318.0</td>\n",
       "      <td>3436</td>\n",
       "    </tr>\n",
       "    <tr>\n",
       "      <th>3</th>\n",
       "      <td>16.0</td>\n",
       "      <td>8</td>\n",
       "      <td>304.0</td>\n",
       "      <td>3433</td>\n",
       "    </tr>\n",
       "    <tr>\n",
       "      <th>4</th>\n",
       "      <td>17.0</td>\n",
       "      <td>8</td>\n",
       "      <td>302.0</td>\n",
       "      <td>3449</td>\n",
       "    </tr>\n",
       "    <tr>\n",
       "      <th>...</th>\n",
       "      <td>...</td>\n",
       "      <td>...</td>\n",
       "      <td>...</td>\n",
       "      <td>...</td>\n",
       "    </tr>\n",
       "    <tr>\n",
       "      <th>387</th>\n",
       "      <td>27.0</td>\n",
       "      <td>4</td>\n",
       "      <td>140.0</td>\n",
       "      <td>2790</td>\n",
       "    </tr>\n",
       "    <tr>\n",
       "      <th>388</th>\n",
       "      <td>44.0</td>\n",
       "      <td>4</td>\n",
       "      <td>97.0</td>\n",
       "      <td>2130</td>\n",
       "    </tr>\n",
       "    <tr>\n",
       "      <th>389</th>\n",
       "      <td>32.0</td>\n",
       "      <td>4</td>\n",
       "      <td>135.0</td>\n",
       "      <td>2295</td>\n",
       "    </tr>\n",
       "    <tr>\n",
       "      <th>390</th>\n",
       "      <td>28.0</td>\n",
       "      <td>4</td>\n",
       "      <td>120.0</td>\n",
       "      <td>2625</td>\n",
       "    </tr>\n",
       "    <tr>\n",
       "      <th>391</th>\n",
       "      <td>31.0</td>\n",
       "      <td>4</td>\n",
       "      <td>119.0</td>\n",
       "      <td>2720</td>\n",
       "    </tr>\n",
       "  </tbody>\n",
       "</table>\n",
       "<p>392 rows × 4 columns</p>\n",
       "</div>"
      ],
      "text/plain": [
       "      MPG  CYL    ENG   WGT\n",
       "0    18.0    8  307.0  3504\n",
       "1    15.0    8  350.0  3693\n",
       "2    18.0    8  318.0  3436\n",
       "3    16.0    8  304.0  3433\n",
       "4    17.0    8  302.0  3449\n",
       "..    ...  ...    ...   ...\n",
       "387  27.0    4  140.0  2790\n",
       "388  44.0    4   97.0  2130\n",
       "389  32.0    4  135.0  2295\n",
       "390  28.0    4  120.0  2625\n",
       "391  31.0    4  119.0  2720\n",
       "\n",
       "[392 rows x 4 columns]"
      ]
     },
     "execution_count": 145,
     "metadata": {},
     "output_type": "execute_result"
    }
   ],
   "source": [
    "# NUMBER 4\n",
    "\n",
    "df_cars = pd.read_csv('../../data/cars.csv')\n",
    "df_cars"
   ]
  },
  {
   "cell_type": "code",
   "execution_count": 146,
   "id": "891ecf97",
   "metadata": {},
   "outputs": [
    {
     "name": "stdout",
     "output_type": "stream",
     "text": [
      "Correlation between WGT and MPGs is: -0.8322442135675991. Since the number is negative, we can conclude that a heavier vehicle will produce a less efficient MPG rating.\n"
     ]
    }
   ],
   "source": [
    "# NUMBER 4A\n",
    "correlation = np.corrcoef(df_cars['WGT'], df_cars['MPG'])\n",
    "correlation = correlation[0,1]\n",
    "print(f'Correlation between WGT and MPGs is: {correlation}. Since the number is negative, we can conclude that a heavier vehicle will produce a less efficient MPG rating.')"
   ]
  },
  {
   "cell_type": "code",
   "execution_count": 147,
   "id": "9c1d684b",
   "metadata": {},
   "outputs": [
    {
     "data": {
      "text/plain": [
       "CYL\n",
       "4    199\n",
       "8    103\n",
       "6     83\n",
       "3      4\n",
       "5      3\n",
       "Name: count, dtype: int64"
      ]
     },
     "execution_count": 147,
     "metadata": {},
     "output_type": "execute_result"
    }
   ],
   "source": [
    "# NUMBER 4B\n",
    "cyl = df_cars['CYL'].value_counts()\n",
    "cyl"
   ]
  },
  {
   "cell_type": "code",
   "execution_count": 148,
   "id": "65133978",
   "metadata": {},
   "outputs": [
    {
     "data": {
      "text/html": [
       "<div>\n",
       "<style scoped>\n",
       "    .dataframe tbody tr th:only-of-type {\n",
       "        vertical-align: middle;\n",
       "    }\n",
       "\n",
       "    .dataframe tbody tr th {\n",
       "        vertical-align: top;\n",
       "    }\n",
       "\n",
       "    .dataframe thead th {\n",
       "        text-align: right;\n",
       "    }\n",
       "</style>\n",
       "<table border=\"1\" class=\"dataframe\">\n",
       "  <thead>\n",
       "    <tr style=\"text-align: right;\">\n",
       "      <th></th>\n",
       "      <th>ENG</th>\n",
       "      <th>WGT</th>\n",
       "      <th>ENG2WGT</th>\n",
       "    </tr>\n",
       "  </thead>\n",
       "  <tbody>\n",
       "    <tr>\n",
       "      <th>0</th>\n",
       "      <td>307.0</td>\n",
       "      <td>3504</td>\n",
       "      <td>0.087614</td>\n",
       "    </tr>\n",
       "    <tr>\n",
       "      <th>1</th>\n",
       "      <td>350.0</td>\n",
       "      <td>3693</td>\n",
       "      <td>0.094774</td>\n",
       "    </tr>\n",
       "    <tr>\n",
       "      <th>2</th>\n",
       "      <td>318.0</td>\n",
       "      <td>3436</td>\n",
       "      <td>0.092549</td>\n",
       "    </tr>\n",
       "    <tr>\n",
       "      <th>3</th>\n",
       "      <td>304.0</td>\n",
       "      <td>3433</td>\n",
       "      <td>0.088552</td>\n",
       "    </tr>\n",
       "    <tr>\n",
       "      <th>4</th>\n",
       "      <td>302.0</td>\n",
       "      <td>3449</td>\n",
       "      <td>0.087562</td>\n",
       "    </tr>\n",
       "  </tbody>\n",
       "</table>\n",
       "</div>"
      ],
      "text/plain": [
       "     ENG   WGT   ENG2WGT\n",
       "0  307.0  3504  0.087614\n",
       "1  350.0  3693  0.094774\n",
       "2  318.0  3436  0.092549\n",
       "3  304.0  3433  0.088552\n",
       "4  302.0  3449  0.087562"
      ]
     },
     "execution_count": 148,
     "metadata": {},
     "output_type": "execute_result"
    }
   ],
   "source": [
    "# NUMBER 4C\n",
    "df_cars['ENG2WGT'] = df_cars['ENG'] / df_cars['WGT']\n",
    "df_cars[['ENG', 'WGT', 'ENG2WGT']].head()"
   ]
  },
  {
   "cell_type": "code",
   "execution_count": 149,
   "id": "2a67f88a",
   "metadata": {},
   "outputs": [
    {
     "data": {
      "text/html": [
       "<div>\n",
       "<style scoped>\n",
       "    .dataframe tbody tr th:only-of-type {\n",
       "        vertical-align: middle;\n",
       "    }\n",
       "\n",
       "    .dataframe tbody tr th {\n",
       "        vertical-align: top;\n",
       "    }\n",
       "\n",
       "    .dataframe thead th {\n",
       "        text-align: right;\n",
       "    }\n",
       "</style>\n",
       "<table border=\"1\" class=\"dataframe\">\n",
       "  <thead>\n",
       "    <tr style=\"text-align: right;\">\n",
       "      <th></th>\n",
       "      <th>Date</th>\n",
       "      <th>Time</th>\n",
       "      <th>PU_Address</th>\n",
       "      <th>DO_Address</th>\n",
       "      <th>Routing Details</th>\n",
       "      <th>PU_Address.1</th>\n",
       "      <th>Status</th>\n",
       "    </tr>\n",
       "  </thead>\n",
       "  <tbody>\n",
       "    <tr>\n",
       "      <th>0</th>\n",
       "      <td>07/01/2014</td>\n",
       "      <td>07:15 AM</td>\n",
       "      <td>Brooklyn Museum, 200 Eastern Pkwy., BK NY;</td>\n",
       "      <td>1 Brookdale Plaza, BK NY;</td>\n",
       "      <td>PU: Brooklyn Museum, 200 Eastern Pkwy., BK NY;...</td>\n",
       "      <td>Brooklyn Museum, 200 Eastern Pkwy., BK NY; DO:...</td>\n",
       "      <td>Cancelled</td>\n",
       "    </tr>\n",
       "    <tr>\n",
       "      <th>1</th>\n",
       "      <td>07/01/2014</td>\n",
       "      <td>07:30 AM</td>\n",
       "      <td>33 Robert Dr., Short Hills NJ;</td>\n",
       "      <td>John F Kennedy International Airport, vitona A...</td>\n",
       "      <td>PU: 33 Robert Dr., Short Hills NJ; DO: John F ...</td>\n",
       "      <td>33 Robert Dr., Short Hills NJ; DO: John F Kenn...</td>\n",
       "      <td>Arrived</td>\n",
       "    </tr>\n",
       "    <tr>\n",
       "      <th>2</th>\n",
       "      <td>07/01/2014</td>\n",
       "      <td>08:00 AM</td>\n",
       "      <td>60 Glenmore Ave., BK NY;</td>\n",
       "      <td>2171 Nostrand Ave., BK NY;</td>\n",
       "      <td>PU: 60 Glenmore Ave., BK NY; DO: 2171 Nostrand...</td>\n",
       "      <td>60 Glenmore Ave., BK NY; DO: 2171 Nostrand Ave...</td>\n",
       "      <td>Assigned</td>\n",
       "    </tr>\n",
       "    <tr>\n",
       "      <th>3</th>\n",
       "      <td>07/01/2014</td>\n",
       "      <td>09:00 AM</td>\n",
       "      <td>128 East 31 St., BK NY;</td>\n",
       "      <td>369 93rd St., BK NY;</td>\n",
       "      <td>PU: 128 East 31 St., BK NY; DO: 369 93rd St., ...</td>\n",
       "      <td>128 East 31 St., BK NY; DO: 369 93rd St., BK NY;</td>\n",
       "      <td>Assigned</td>\n",
       "    </tr>\n",
       "    <tr>\n",
       "      <th>4</th>\n",
       "      <td>07/01/2014</td>\n",
       "      <td>09:30 AM</td>\n",
       "      <td>139-39 35 Ave., Flushing NY;</td>\n",
       "      <td>La Guardia Airport;</td>\n",
       "      <td>PU: 139-39 35 Ave., Flushing NY; DO: La Guardi...</td>\n",
       "      <td>139-39 35 Ave., Flushing NY; DO: La Guardia Ai...</td>\n",
       "      <td>Assigned</td>\n",
       "    </tr>\n",
       "  </tbody>\n",
       "</table>\n",
       "</div>"
      ],
      "text/plain": [
       "         Date      Time                                  PU_Address  \\\n",
       "0  07/01/2014  07:15 AM  Brooklyn Museum, 200 Eastern Pkwy., BK NY;   \n",
       "1  07/01/2014  07:30 AM              33 Robert Dr., Short Hills NJ;   \n",
       "2  07/01/2014  08:00 AM                    60 Glenmore Ave., BK NY;   \n",
       "3  07/01/2014  09:00 AM                     128 East 31 St., BK NY;   \n",
       "4  07/01/2014  09:30 AM                139-39 35 Ave., Flushing NY;   \n",
       "\n",
       "                                          DO_Address  \\\n",
       "0                         1 Brookdale Plaza, BK NY;    \n",
       "1  John F Kennedy International Airport, vitona A...   \n",
       "2                        2171 Nostrand Ave., BK NY;    \n",
       "3                              369 93rd St., BK NY;    \n",
       "4                               La Guardia Airport;    \n",
       "\n",
       "                                     Routing Details  \\\n",
       "0  PU: Brooklyn Museum, 200 Eastern Pkwy., BK NY;...   \n",
       "1  PU: 33 Robert Dr., Short Hills NJ; DO: John F ...   \n",
       "2  PU: 60 Glenmore Ave., BK NY; DO: 2171 Nostrand...   \n",
       "3  PU: 128 East 31 St., BK NY; DO: 369 93rd St., ...   \n",
       "4  PU: 139-39 35 Ave., Flushing NY; DO: La Guardi...   \n",
       "\n",
       "                                        PU_Address.1     Status  \n",
       "0  Brooklyn Museum, 200 Eastern Pkwy., BK NY; DO:...  Cancelled  \n",
       "1  33 Robert Dr., Short Hills NJ; DO: John F Kenn...    Arrived  \n",
       "2  60 Glenmore Ave., BK NY; DO: 2171 Nostrand Ave...   Assigned  \n",
       "3  128 East 31 St., BK NY; DO: 369 93rd St., BK NY;    Assigned  \n",
       "4  139-39 35 Ave., Flushing NY; DO: La Guardia Ai...   Assigned  "
      ]
     },
     "execution_count": 149,
     "metadata": {},
     "output_type": "execute_result"
    }
   ],
   "source": [
    "# NUMBER 5\n",
    "\n",
    "df_kaggle = pd.read_csv('../../data/kaggle-uber-other-federal.csv')\n",
    "df_kaggle.head()"
   ]
  },
  {
   "cell_type": "code",
   "execution_count": 150,
   "id": "5fddfb62",
   "metadata": {},
   "outputs": [
    {
     "data": {
      "text/html": [
       "<div>\n",
       "<style scoped>\n",
       "    .dataframe tbody tr th:only-of-type {\n",
       "        vertical-align: middle;\n",
       "    }\n",
       "\n",
       "    .dataframe tbody tr th {\n",
       "        vertical-align: top;\n",
       "    }\n",
       "\n",
       "    .dataframe thead th {\n",
       "        text-align: right;\n",
       "    }\n",
       "</style>\n",
       "<table border=\"1\" class=\"dataframe\">\n",
       "  <thead>\n",
       "    <tr style=\"text-align: right;\">\n",
       "      <th></th>\n",
       "      <th>Date</th>\n",
       "      <th>Time</th>\n",
       "      <th>Status</th>\n",
       "      <th>PU_Address</th>\n",
       "      <th>Datetime</th>\n",
       "    </tr>\n",
       "  </thead>\n",
       "  <tbody>\n",
       "    <tr>\n",
       "      <th>0</th>\n",
       "      <td>07/01/2014</td>\n",
       "      <td>07:15 AM</td>\n",
       "      <td>Cancelled</td>\n",
       "      <td>Brooklyn Museum, 200 Eastern Pkwy., BK NY;</td>\n",
       "      <td>2014-07-01 07:15:00</td>\n",
       "    </tr>\n",
       "    <tr>\n",
       "      <th>1</th>\n",
       "      <td>07/01/2014</td>\n",
       "      <td>07:30 AM</td>\n",
       "      <td>Arrived</td>\n",
       "      <td>33 Robert Dr., Short Hills NJ;</td>\n",
       "      <td>2014-07-01 07:30:00</td>\n",
       "    </tr>\n",
       "    <tr>\n",
       "      <th>2</th>\n",
       "      <td>07/01/2014</td>\n",
       "      <td>08:00 AM</td>\n",
       "      <td>Assigned</td>\n",
       "      <td>60 Glenmore Ave., BK NY;</td>\n",
       "      <td>2014-07-01 08:00:00</td>\n",
       "    </tr>\n",
       "    <tr>\n",
       "      <th>3</th>\n",
       "      <td>07/01/2014</td>\n",
       "      <td>09:00 AM</td>\n",
       "      <td>Assigned</td>\n",
       "      <td>128 East 31 St., BK NY;</td>\n",
       "      <td>2014-07-01 09:00:00</td>\n",
       "    </tr>\n",
       "    <tr>\n",
       "      <th>4</th>\n",
       "      <td>07/01/2014</td>\n",
       "      <td>09:30 AM</td>\n",
       "      <td>Assigned</td>\n",
       "      <td>139-39 35 Ave., Flushing NY;</td>\n",
       "      <td>2014-07-01 09:30:00</td>\n",
       "    </tr>\n",
       "    <tr>\n",
       "      <th>...</th>\n",
       "      <td>...</td>\n",
       "      <td>...</td>\n",
       "      <td>...</td>\n",
       "      <td>...</td>\n",
       "      <td>...</td>\n",
       "    </tr>\n",
       "    <tr>\n",
       "      <th>94</th>\n",
       "      <td>07/21/2014</td>\n",
       "      <td>06:00 AM</td>\n",
       "      <td>Assigned</td>\n",
       "      <td>266 prospect park west, brooklyn NY;</td>\n",
       "      <td>2014-07-21 06:00:00</td>\n",
       "    </tr>\n",
       "    <tr>\n",
       "      <th>95</th>\n",
       "      <td>07/21/2014</td>\n",
       "      <td>08:30 AM</td>\n",
       "      <td>Cancelled</td>\n",
       "      <td>42 St., BK NY;</td>\n",
       "      <td>2014-07-21 08:30:00</td>\n",
       "    </tr>\n",
       "    <tr>\n",
       "      <th>96</th>\n",
       "      <td>07/21/2014</td>\n",
       "      <td>12:00 PM</td>\n",
       "      <td>Arrived</td>\n",
       "      <td>663 51st Street, BK NY;</td>\n",
       "      <td>2014-07-21 12:00:00</td>\n",
       "    </tr>\n",
       "    <tr>\n",
       "      <th>97</th>\n",
       "      <td>07/21/2014</td>\n",
       "      <td>04:45 PM</td>\n",
       "      <td>Assigned</td>\n",
       "      <td>255 Fieldston Terrace, Bronx NY;</td>\n",
       "      <td>2014-07-21 16:45:00</td>\n",
       "    </tr>\n",
       "    <tr>\n",
       "      <th>98</th>\n",
       "      <td>07/22/2014</td>\n",
       "      <td>01:30 PM</td>\n",
       "      <td>Arrived</td>\n",
       "      <td>Columbia University, 630 W 168 St., NY NY; ST:...</td>\n",
       "      <td>2014-07-22 13:30:00</td>\n",
       "    </tr>\n",
       "  </tbody>\n",
       "</table>\n",
       "<p>99 rows × 5 columns</p>\n",
       "</div>"
      ],
      "text/plain": [
       "          Date      Time     Status  \\\n",
       "0   07/01/2014  07:15 AM  Cancelled   \n",
       "1   07/01/2014  07:30 AM    Arrived   \n",
       "2   07/01/2014  08:00 AM   Assigned   \n",
       "3   07/01/2014  09:00 AM   Assigned   \n",
       "4   07/01/2014  09:30 AM   Assigned   \n",
       "..         ...       ...        ...   \n",
       "94  07/21/2014  06:00 AM   Assigned   \n",
       "95  07/21/2014  08:30 AM  Cancelled   \n",
       "96  07/21/2014  12:00 PM    Arrived   \n",
       "97  07/21/2014  04:45 PM   Assigned   \n",
       "98  07/22/2014  01:30 PM    Arrived   \n",
       "\n",
       "                                           PU_Address            Datetime  \n",
       "0          Brooklyn Museum, 200 Eastern Pkwy., BK NY; 2014-07-01 07:15:00  \n",
       "1                      33 Robert Dr., Short Hills NJ; 2014-07-01 07:30:00  \n",
       "2                            60 Glenmore Ave., BK NY; 2014-07-01 08:00:00  \n",
       "3                             128 East 31 St., BK NY; 2014-07-01 09:00:00  \n",
       "4                        139-39 35 Ave., Flushing NY; 2014-07-01 09:30:00  \n",
       "..                                                ...                 ...  \n",
       "94               266 prospect park west, brooklyn NY; 2014-07-21 06:00:00  \n",
       "95                                     42 St., BK NY; 2014-07-21 08:30:00  \n",
       "96                            663 51st Street, BK NY; 2014-07-21 12:00:00  \n",
       "97                   255 Fieldston Terrace, Bronx NY; 2014-07-21 16:45:00  \n",
       "98  Columbia University, 630 W 168 St., NY NY; ST:... 2014-07-22 13:30:00  \n",
       "\n",
       "[99 rows x 5 columns]"
      ]
     },
     "execution_count": 150,
     "metadata": {},
     "output_type": "execute_result"
    }
   ],
   "source": [
    "# NUMBER 5A\n",
    "df_new_kaggle = df_kaggle[['Date', 'Time', 'Status', 'PU_Address']].copy()\n",
    "df_new_kaggle['Datetime'] = pd.to_datetime(df_new_kaggle['Date'] + ' ' + df_new_kaggle['Time'])\n",
    "df_new_kaggle"
   ]
  },
  {
   "cell_type": "code",
   "execution_count": 151,
   "id": "1c7223f0",
   "metadata": {},
   "outputs": [
    {
     "data": {
      "text/plain": [
       "Date                  object\n",
       "Time                  object\n",
       "Status                object\n",
       "PU_Address            object\n",
       "Datetime      datetime64[ns]\n",
       "dtype: object"
      ]
     },
     "execution_count": 151,
     "metadata": {},
     "output_type": "execute_result"
    }
   ],
   "source": [
    "# NUMBER 5B\n",
    "df_new_kaggle.dtypes"
   ]
  },
  {
   "cell_type": "code",
   "execution_count": 152,
   "id": "616712a5",
   "metadata": {},
   "outputs": [
    {
     "data": {
      "text/plain": [
       "Date                   object\n",
       "Time          timedelta64[ns]\n",
       "Status               category\n",
       "PU_Address           category\n",
       "Datetime       datetime64[ns]\n",
       "dtype: object"
      ]
     },
     "execution_count": 152,
     "metadata": {},
     "output_type": "execute_result"
    }
   ],
   "source": [
    "df_new_kaggle['Date'] = pd.to_datetime(df_new_kaggle['Date']).dt.date\n",
    "df_new_kaggle['Time'] = pd.to_timedelta(df_new_kaggle['Time'] + ':00')\n",
    "df_new_kaggle['Status'] = df_new_kaggle['Status'].astype('category')\n",
    "df_new_kaggle['PU_Address'] = df_new_kaggle['PU_Address'].astype('category')\n",
    "\n",
    "df_new_kaggle.dtypes"
   ]
  },
  {
   "cell_type": "code",
   "execution_count": 153,
   "id": "e6da0764",
   "metadata": {},
   "outputs": [
    {
     "data": {
      "text/html": [
       "<div>\n",
       "<style scoped>\n",
       "    .dataframe tbody tr th:only-of-type {\n",
       "        vertical-align: middle;\n",
       "    }\n",
       "\n",
       "    .dataframe tbody tr th {\n",
       "        vertical-align: top;\n",
       "    }\n",
       "\n",
       "    .dataframe thead th {\n",
       "        text-align: right;\n",
       "    }\n",
       "</style>\n",
       "<table border=\"1\" class=\"dataframe\">\n",
       "  <thead>\n",
       "    <tr style=\"text-align: right;\">\n",
       "      <th></th>\n",
       "      <th>Date</th>\n",
       "      <th>Time</th>\n",
       "      <th>Status</th>\n",
       "      <th>PU_Address</th>\n",
       "      <th>Datetime</th>\n",
       "      <th>Hour</th>\n",
       "    </tr>\n",
       "  </thead>\n",
       "  <tbody>\n",
       "    <tr>\n",
       "      <th>0</th>\n",
       "      <td>2014-07-01</td>\n",
       "      <td>0 days 07:15:00</td>\n",
       "      <td>Cancelled</td>\n",
       "      <td>Brooklyn Museum, 200 Eastern Pkwy., BK NY;</td>\n",
       "      <td>2014-07-01 07:15:00</td>\n",
       "      <td>7</td>\n",
       "    </tr>\n",
       "    <tr>\n",
       "      <th>1</th>\n",
       "      <td>2014-07-01</td>\n",
       "      <td>0 days 07:30:00</td>\n",
       "      <td>Arrived</td>\n",
       "      <td>33 Robert Dr., Short Hills NJ;</td>\n",
       "      <td>2014-07-01 07:30:00</td>\n",
       "      <td>7</td>\n",
       "    </tr>\n",
       "    <tr>\n",
       "      <th>2</th>\n",
       "      <td>2014-07-01</td>\n",
       "      <td>0 days 08:00:00</td>\n",
       "      <td>Assigned</td>\n",
       "      <td>60 Glenmore Ave., BK NY;</td>\n",
       "      <td>2014-07-01 08:00:00</td>\n",
       "      <td>8</td>\n",
       "    </tr>\n",
       "    <tr>\n",
       "      <th>3</th>\n",
       "      <td>2014-07-01</td>\n",
       "      <td>0 days 09:00:00</td>\n",
       "      <td>Assigned</td>\n",
       "      <td>128 East 31 St., BK NY;</td>\n",
       "      <td>2014-07-01 09:00:00</td>\n",
       "      <td>9</td>\n",
       "    </tr>\n",
       "    <tr>\n",
       "      <th>4</th>\n",
       "      <td>2014-07-01</td>\n",
       "      <td>0 days 09:30:00</td>\n",
       "      <td>Assigned</td>\n",
       "      <td>139-39 35 Ave., Flushing NY;</td>\n",
       "      <td>2014-07-01 09:30:00</td>\n",
       "      <td>9</td>\n",
       "    </tr>\n",
       "  </tbody>\n",
       "</table>\n",
       "</div>"
      ],
      "text/plain": [
       "         Date            Time     Status  \\\n",
       "0  2014-07-01 0 days 07:15:00  Cancelled   \n",
       "1  2014-07-01 0 days 07:30:00    Arrived   \n",
       "2  2014-07-01 0 days 08:00:00   Assigned   \n",
       "3  2014-07-01 0 days 09:00:00   Assigned   \n",
       "4  2014-07-01 0 days 09:30:00   Assigned   \n",
       "\n",
       "                                   PU_Address            Datetime  Hour  \n",
       "0  Brooklyn Museum, 200 Eastern Pkwy., BK NY; 2014-07-01 07:15:00     7  \n",
       "1              33 Robert Dr., Short Hills NJ; 2014-07-01 07:30:00     7  \n",
       "2                    60 Glenmore Ave., BK NY; 2014-07-01 08:00:00     8  \n",
       "3                     128 East 31 St., BK NY; 2014-07-01 09:00:00     9  \n",
       "4                139-39 35 Ave., Flushing NY; 2014-07-01 09:30:00     9  "
      ]
     },
     "execution_count": 153,
     "metadata": {},
     "output_type": "execute_result"
    }
   ],
   "source": [
    "# NUMBER 5C\n",
    "df_new_kaggle['Hour'] = df_new_kaggle['Datetime'].dt.hour\n",
    "df_new_kaggle.head()"
   ]
  },
  {
   "cell_type": "code",
   "execution_count": 154,
   "id": "fc0ee06b",
   "metadata": {},
   "outputs": [
    {
     "data": {
      "text/html": [
       "<div>\n",
       "<style scoped>\n",
       "    .dataframe tbody tr th:only-of-type {\n",
       "        vertical-align: middle;\n",
       "    }\n",
       "\n",
       "    .dataframe tbody tr th {\n",
       "        vertical-align: top;\n",
       "    }\n",
       "\n",
       "    .dataframe thead th {\n",
       "        text-align: right;\n",
       "    }\n",
       "</style>\n",
       "<table border=\"1\" class=\"dataframe\">\n",
       "  <thead>\n",
       "    <tr style=\"text-align: right;\">\n",
       "      <th></th>\n",
       "      <th>Time</th>\n",
       "      <th>Status</th>\n",
       "      <th>PU_Address</th>\n",
       "      <th>Datetime</th>\n",
       "      <th>Hour</th>\n",
       "    </tr>\n",
       "    <tr>\n",
       "      <th>Date</th>\n",
       "      <th></th>\n",
       "      <th></th>\n",
       "      <th></th>\n",
       "      <th></th>\n",
       "      <th></th>\n",
       "    </tr>\n",
       "  </thead>\n",
       "  <tbody>\n",
       "    <tr>\n",
       "      <th>2014-07-01</th>\n",
       "      <td>0 days 07:15:00</td>\n",
       "      <td>Cancelled</td>\n",
       "      <td>Brooklyn Museum, 200 Eastern Pkwy., BK NY;</td>\n",
       "      <td>2014-07-01 07:15:00</td>\n",
       "      <td>7</td>\n",
       "    </tr>\n",
       "    <tr>\n",
       "      <th>2014-07-01</th>\n",
       "      <td>0 days 07:30:00</td>\n",
       "      <td>Arrived</td>\n",
       "      <td>33 Robert Dr., Short Hills NJ;</td>\n",
       "      <td>2014-07-01 07:30:00</td>\n",
       "      <td>7</td>\n",
       "    </tr>\n",
       "    <tr>\n",
       "      <th>2014-07-01</th>\n",
       "      <td>0 days 08:00:00</td>\n",
       "      <td>Assigned</td>\n",
       "      <td>60 Glenmore Ave., BK NY;</td>\n",
       "      <td>2014-07-01 08:00:00</td>\n",
       "      <td>8</td>\n",
       "    </tr>\n",
       "    <tr>\n",
       "      <th>2014-07-01</th>\n",
       "      <td>0 days 09:00:00</td>\n",
       "      <td>Assigned</td>\n",
       "      <td>128 East 31 St., BK NY;</td>\n",
       "      <td>2014-07-01 09:00:00</td>\n",
       "      <td>9</td>\n",
       "    </tr>\n",
       "    <tr>\n",
       "      <th>2014-07-01</th>\n",
       "      <td>0 days 09:30:00</td>\n",
       "      <td>Assigned</td>\n",
       "      <td>139-39 35 Ave., Flushing NY;</td>\n",
       "      <td>2014-07-01 09:30:00</td>\n",
       "      <td>9</td>\n",
       "    </tr>\n",
       "    <tr>\n",
       "      <th>...</th>\n",
       "      <td>...</td>\n",
       "      <td>...</td>\n",
       "      <td>...</td>\n",
       "      <td>...</td>\n",
       "      <td>...</td>\n",
       "    </tr>\n",
       "    <tr>\n",
       "      <th>2014-07-21</th>\n",
       "      <td>0 days 06:00:00</td>\n",
       "      <td>Assigned</td>\n",
       "      <td>266 prospect park west, brooklyn NY;</td>\n",
       "      <td>2014-07-21 06:00:00</td>\n",
       "      <td>6</td>\n",
       "    </tr>\n",
       "    <tr>\n",
       "      <th>2014-07-21</th>\n",
       "      <td>0 days 08:30:00</td>\n",
       "      <td>Cancelled</td>\n",
       "      <td>42 St., BK NY;</td>\n",
       "      <td>2014-07-21 08:30:00</td>\n",
       "      <td>8</td>\n",
       "    </tr>\n",
       "    <tr>\n",
       "      <th>2014-07-21</th>\n",
       "      <td>0 days 12:00:00</td>\n",
       "      <td>Arrived</td>\n",
       "      <td>663 51st Street, BK NY;</td>\n",
       "      <td>2014-07-21 12:00:00</td>\n",
       "      <td>12</td>\n",
       "    </tr>\n",
       "    <tr>\n",
       "      <th>2014-07-21</th>\n",
       "      <td>0 days 04:45:00</td>\n",
       "      <td>Assigned</td>\n",
       "      <td>255 Fieldston Terrace, Bronx NY;</td>\n",
       "      <td>2014-07-21 16:45:00</td>\n",
       "      <td>16</td>\n",
       "    </tr>\n",
       "    <tr>\n",
       "      <th>2014-07-22</th>\n",
       "      <td>0 days 01:30:00</td>\n",
       "      <td>Arrived</td>\n",
       "      <td>Columbia University, 630 W 168 St., NY NY; ST:...</td>\n",
       "      <td>2014-07-22 13:30:00</td>\n",
       "      <td>13</td>\n",
       "    </tr>\n",
       "  </tbody>\n",
       "</table>\n",
       "<p>99 rows × 5 columns</p>\n",
       "</div>"
      ],
      "text/plain": [
       "                      Time     Status  \\\n",
       "Date                                    \n",
       "2014-07-01 0 days 07:15:00  Cancelled   \n",
       "2014-07-01 0 days 07:30:00    Arrived   \n",
       "2014-07-01 0 days 08:00:00   Assigned   \n",
       "2014-07-01 0 days 09:00:00   Assigned   \n",
       "2014-07-01 0 days 09:30:00   Assigned   \n",
       "...                    ...        ...   \n",
       "2014-07-21 0 days 06:00:00   Assigned   \n",
       "2014-07-21 0 days 08:30:00  Cancelled   \n",
       "2014-07-21 0 days 12:00:00    Arrived   \n",
       "2014-07-21 0 days 04:45:00   Assigned   \n",
       "2014-07-22 0 days 01:30:00    Arrived   \n",
       "\n",
       "                                                   PU_Address  \\\n",
       "Date                                                            \n",
       "2014-07-01         Brooklyn Museum, 200 Eastern Pkwy., BK NY;   \n",
       "2014-07-01                     33 Robert Dr., Short Hills NJ;   \n",
       "2014-07-01                           60 Glenmore Ave., BK NY;   \n",
       "2014-07-01                            128 East 31 St., BK NY;   \n",
       "2014-07-01                       139-39 35 Ave., Flushing NY;   \n",
       "...                                                       ...   \n",
       "2014-07-21               266 prospect park west, brooklyn NY;   \n",
       "2014-07-21                                     42 St., BK NY;   \n",
       "2014-07-21                            663 51st Street, BK NY;   \n",
       "2014-07-21                   255 Fieldston Terrace, Bronx NY;   \n",
       "2014-07-22  Columbia University, 630 W 168 St., NY NY; ST:...   \n",
       "\n",
       "                      Datetime  Hour  \n",
       "Date                                  \n",
       "2014-07-01 2014-07-01 07:15:00     7  \n",
       "2014-07-01 2014-07-01 07:30:00     7  \n",
       "2014-07-01 2014-07-01 08:00:00     8  \n",
       "2014-07-01 2014-07-01 09:00:00     9  \n",
       "2014-07-01 2014-07-01 09:30:00     9  \n",
       "...                        ...   ...  \n",
       "2014-07-21 2014-07-21 06:00:00     6  \n",
       "2014-07-21 2014-07-21 08:30:00     8  \n",
       "2014-07-21 2014-07-21 12:00:00    12  \n",
       "2014-07-21 2014-07-21 16:45:00    16  \n",
       "2014-07-22 2014-07-22 13:30:00    13  \n",
       "\n",
       "[99 rows x 5 columns]"
      ]
     },
     "execution_count": 154,
     "metadata": {},
     "output_type": "execute_result"
    }
   ],
   "source": [
    "# NUMBER 5D\n",
    "df_new_kaggle['Date'] = df_new_kaggle['Datetime'].dt.date\n",
    "df_new_kaggle.set_index('Date', inplace=True)\n",
    "df_new_kaggle"
   ]
  },
  {
   "cell_type": "code",
   "execution_count": 155,
   "id": "f09c0906",
   "metadata": {},
   "outputs": [
    {
     "data": {
      "text/plain": [
       "4"
      ]
     },
     "execution_count": 155,
     "metadata": {},
     "output_type": "execute_result"
    }
   ],
   "source": [
    "# NUMBER 5E\n",
    "df_new_kaggle.loc[pd.to_datetime('07/02/2014').date()].shape[0]"
   ]
  },
  {
   "cell_type": "code",
   "execution_count": 156,
   "id": "8fddd787",
   "metadata": {},
   "outputs": [
    {
     "data": {
      "text/html": [
       "<div>\n",
       "<style scoped>\n",
       "    .dataframe tbody tr th:only-of-type {\n",
       "        vertical-align: middle;\n",
       "    }\n",
       "\n",
       "    .dataframe tbody tr th {\n",
       "        vertical-align: top;\n",
       "    }\n",
       "\n",
       "    .dataframe thead th {\n",
       "        text-align: right;\n",
       "    }\n",
       "</style>\n",
       "<table border=\"1\" class=\"dataframe\">\n",
       "  <thead>\n",
       "    <tr style=\"text-align: right;\">\n",
       "      <th></th>\n",
       "      <th>Time</th>\n",
       "      <th>Status</th>\n",
       "      <th>PU_Address</th>\n",
       "      <th>Datetime</th>\n",
       "      <th>Hour</th>\n",
       "    </tr>\n",
       "    <tr>\n",
       "      <th>Date</th>\n",
       "      <th></th>\n",
       "      <th></th>\n",
       "      <th></th>\n",
       "      <th></th>\n",
       "      <th></th>\n",
       "    </tr>\n",
       "  </thead>\n",
       "  <tbody>\n",
       "    <tr>\n",
       "      <th>2014-07-01</th>\n",
       "      <td>0 days 07:15:00</td>\n",
       "      <td>Cancelled</td>\n",
       "      <td>Brooklyn Museum, 200 Eastern Pkwy., BK NY;</td>\n",
       "      <td>2014-07-01 07:15:00</td>\n",
       "      <td>7</td>\n",
       "    </tr>\n",
       "    <tr>\n",
       "      <th>2014-07-01</th>\n",
       "      <td>0 days 07:30:00</td>\n",
       "      <td>Arrived</td>\n",
       "      <td>33 Robert Dr., Short Hills NJ;</td>\n",
       "      <td>2014-07-01 07:30:00</td>\n",
       "      <td>7</td>\n",
       "    </tr>\n",
       "    <tr>\n",
       "      <th>2014-07-01</th>\n",
       "      <td>0 days 08:00:00</td>\n",
       "      <td>Assigned</td>\n",
       "      <td>60 Glenmore Ave., BK NY;</td>\n",
       "      <td>2014-07-01 08:00:00</td>\n",
       "      <td>8</td>\n",
       "    </tr>\n",
       "    <tr>\n",
       "      <th>2014-07-01</th>\n",
       "      <td>0 days 09:00:00</td>\n",
       "      <td>Assigned</td>\n",
       "      <td>128 East 31 St., BK NY;</td>\n",
       "      <td>2014-07-01 09:00:00</td>\n",
       "      <td>9</td>\n",
       "    </tr>\n",
       "    <tr>\n",
       "      <th>2014-07-01</th>\n",
       "      <td>0 days 09:30:00</td>\n",
       "      <td>Assigned</td>\n",
       "      <td>139-39 35 Ave., Flushing NY;</td>\n",
       "      <td>2014-07-01 09:30:00</td>\n",
       "      <td>9</td>\n",
       "    </tr>\n",
       "  </tbody>\n",
       "</table>\n",
       "</div>"
      ],
      "text/plain": [
       "                      Time     Status  \\\n",
       "Date                                    \n",
       "2014-07-01 0 days 07:15:00  Cancelled   \n",
       "2014-07-01 0 days 07:30:00    Arrived   \n",
       "2014-07-01 0 days 08:00:00   Assigned   \n",
       "2014-07-01 0 days 09:00:00   Assigned   \n",
       "2014-07-01 0 days 09:30:00   Assigned   \n",
       "\n",
       "                                            PU_Address            Datetime  \\\n",
       "Date                                                                         \n",
       "2014-07-01  Brooklyn Museum, 200 Eastern Pkwy., BK NY; 2014-07-01 07:15:00   \n",
       "2014-07-01              33 Robert Dr., Short Hills NJ; 2014-07-01 07:30:00   \n",
       "2014-07-01                    60 Glenmore Ave., BK NY; 2014-07-01 08:00:00   \n",
       "2014-07-01                     128 East 31 St., BK NY; 2014-07-01 09:00:00   \n",
       "2014-07-01                139-39 35 Ave., Flushing NY; 2014-07-01 09:30:00   \n",
       "\n",
       "            Hour  \n",
       "Date              \n",
       "2014-07-01     7  \n",
       "2014-07-01     7  \n",
       "2014-07-01     8  \n",
       "2014-07-01     9  \n",
       "2014-07-01     9  "
      ]
     },
     "execution_count": 156,
     "metadata": {},
     "output_type": "execute_result"
    }
   ],
   "source": [
    "# NUMBER 5F\n",
    "df_new_kaggle.reset_index()\n",
    "df_new_kaggle.head()"
   ]
  },
  {
   "cell_type": "code",
   "execution_count": 157,
   "id": "f36ebc4c",
   "metadata": {},
   "outputs": [
    {
     "data": {
      "text/plain": [
       "'\\n1) Which manufacturer offers cereals with the highest average rating?\\n2) Which cereals provide the highest protein content per serving?\\n3) What are the average sugar levels by manufacturer, which ones are lower?\\n4) Which cereal provides the most vitamins and fiber? \\n'"
      ]
     },
     "execution_count": 157,
     "metadata": {},
     "output_type": "execute_result"
    }
   ],
   "source": [
    "# NUMBER 6A \n",
    "'''\n",
    "1) Which manufacturer offers cereals with the highest average rating?\n",
    "2) Which cereals provide the highest protein content per serving?\n",
    "3) What are the average sugar levels by manufacturer, which ones are lower?\n",
    "4) Which cereal provides the most vitamins and fiber? \n",
    "'''"
   ]
  },
  {
   "cell_type": "code",
   "execution_count": 158,
   "id": "9eb2a1a7",
   "metadata": {},
   "outputs": [
    {
     "data": {
      "text/plain": [
       "\"\\nCOLUMNS I WOULD CHOOSE TO ANSWER THE QUESTIONS ABOVE:\\n\\nName\\nmfr\\nprotein\\nfiber\\nsugars\\nvitamins\\nrating\\n\\nProbably approach the problem accessing the dataframe so:\\n\\ndf_cereal[['protein', 'sugars', 'fiber', 'rating', 'vitamins', 'mfr']].describe()\\n\\nto check sum:\\n\\ndf_cereal.isna().sum()\\n\""
      ]
     },
     "execution_count": 158,
     "metadata": {},
     "output_type": "execute_result"
    }
   ],
   "source": [
    "# NUMBER 6B\n",
    "'''\n",
    "COLUMNS I WOULD CHOOSE TO ANSWER THE QUESTIONS ABOVE:\n",
    "\n",
    "Name\n",
    "mfr\n",
    "protein\n",
    "fiber\n",
    "sugars\n",
    "vitamins\n",
    "rating\n",
    "\n",
    "Probably approach the problem accessing the dataframe so:\n",
    "\n",
    "df_cereal[['protein', 'sugars', 'fiber', 'rating', 'vitamins', 'mfr']].describe()\n",
    "\n",
    "to check sum:\n",
    "\n",
    "df_cereal.isna().sum()\n",
    "'''"
   ]
  },
  {
   "cell_type": "code",
   "execution_count": 159,
   "id": "561ef3ae",
   "metadata": {},
   "outputs": [
    {
     "data": {
      "text/plain": [
       "'\\n1) Bar plot: Average rating per manufacturer to visualize the brands\\n2) Scatter Plot: Fiber vs Ratings, this can showcase the fiber content in high ratings cereals\\n3) Box Plot: Sugar content by manufacturer, comparing sugar levels\\n4) Histogram: Distribution of protein content from each cereal manufacturer\\n'"
      ]
     },
     "execution_count": 159,
     "metadata": {},
     "output_type": "execute_result"
    }
   ],
   "source": [
    "# NUMBER 6C\n",
    "'''\n",
    "1) Bar plot: Average rating per manufacturer to visualize the brands\n",
    "2) Scatter Plot: Fiber vs Ratings, this can showcase the fiber content in high ratings cereals\n",
    "3) Box Plot: Sugar content by manufacturer, comparing sugar levels\n",
    "4) Histogram: Distribution of protein content from each cereal manufacturer\n",
    "'''"
   ]
  },
  {
   "cell_type": "code",
   "execution_count": 160,
   "id": "d5575f52",
   "metadata": {},
   "outputs": [
    {
     "data": {
      "text/plain": [
       "'\\nOTHER INFORMATION OR DATA TO THAT MAY BE HELPFUL?\\n\\n1) Cost per Serving - only thing left out from that columns list I can\\nthink of as an important factor to include. To compare affordability \\nbetween the different cereal products.\\n\\n'"
      ]
     },
     "execution_count": 160,
     "metadata": {},
     "output_type": "execute_result"
    }
   ],
   "source": [
    "# NUMBER 6D\n",
    "\n",
    "'''\n",
    "OTHER INFORMATION OR DATA TO THAT MAY BE HELPFUL?\n",
    "\n",
    "1) Cost per Serving - only thing left out from that columns list I can\n",
    "think of as an important factor to include. To compare affordability \n",
    "between the different cereal products.\n",
    "\n",
    "'''"
   ]
  }
 ],
 "metadata": {
  "kernelspec": {
   "display_name": "eda",
   "language": "python",
   "name": "python3"
  },
  "language_info": {
   "codemirror_mode": {
    "name": "ipython",
    "version": 3
   },
   "file_extension": ".py",
   "mimetype": "text/x-python",
   "name": "python",
   "nbconvert_exporter": "python",
   "pygments_lexer": "ipython3",
   "version": "3.13.5"
  }
 },
 "nbformat": 4,
 "nbformat_minor": 5
}
