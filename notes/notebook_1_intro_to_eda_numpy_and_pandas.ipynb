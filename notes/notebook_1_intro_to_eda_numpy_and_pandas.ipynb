{
 "cells": [
  {
   "cell_type": "markdown",
   "metadata": {},
   "source": [
    "-----\n",
    "<div class=\"alert alert-block alert-info\">\n",
    "    <h1>Introduction to EDA, <kbd>numpy</kbd> and <kbd>pandas</kbd></h1>"
   ]
  },
  {
   "cell_type": "markdown",
   "metadata": {},
   "source": [
    "<div class=\"alert alert-block alert-warning\">  \n",
    "<h3> Introduction to EDA </h3>\n",
    "    \n",
    "EDA is a very broad term, but I take it to mean \"learning useful information or formulating new questions about a population based upon an associated data set.\" \n",
    "    \n",
    "This could be everything from interesting tidbits about how many people live in a particular area, to more important marketing information, such as what product characteristics people are willing to pay for.\n",
    "    \n",
    "</div>"
   ]
  },
  {
   "cell_type": "markdown",
   "metadata": {},
   "source": [
    "<div class=\"alert alert-block alert-warning\">  \n",
    "<h3> Process of EDA </h3>\n",
    "    \n",
    "   Technically, The primary motive of EDA is to\n",
    "    \n",
    "   <ul>\n",
    "   <li><b>LOOK AT THE DATA!</b></li>\n",
    "   <li> Examine the data information including column names, data types, shape, values, stats and distributions.</li>\n",
    "   <li> Handle anomalies and missing values.</li>\n",
    "   <li> Transform numeric features, such as normalizing or scaling.</li>\n",
    "   <li> Process categorical features, such as encoding.</li>\n",
    "   <li> Create few features for advanced graphics or models. </li>\n",
    "   <li> Examine trends and relationship between features.</li> \n",
    "      \n",
    "       \n",
    "   </ul>\n",
    " \n",
    "    \n",
    "</div>"
   ]
  },
  {
   "cell_type": "markdown",
   "metadata": {},
   "source": [
    "<div class=\"alert alert-block alert-warning\">  \n",
    "<h3> Process of EDA </h3>\n",
    "    \n",
    "   You can sense that EDA has a lot of flexibilities, and the key word is the **Exploratory**\n",
    "    \n",
    "   <ul>\n",
    "   <li> One of the best ways to learn EDA, is to walk through an actual data set together, picking apart the data to ask questions and answer them. </li>\n",
    "   <li> Sometimes we don't know what the questions are until we see the data. As you'll see, we will often ask the question: \"What's going on with the data here?\"</li>\n",
    "   <li> EDA in python often needs the combination of libraries <kbd>numpy</kbd>, <kbd>pandas</kbd> and <kbd>matplotlib</kbd>. The first two for processing of the data set, and <kbd>matplotlib</kbd> for graphical checks.</li>\n",
    "\n",
    "      \n",
    "       \n",
    "   </ul>\n",
    " \n",
    "    \n",
    "</div>"
   ]
  },
  {
   "cell_type": "markdown",
   "metadata": {},
   "source": [
    "<div class=\"alert alert-block alert-warning\">  \n",
    "<h3> Overview of EDA/Viz implementation topics in MSDS593</h3>\n",
    "    \n",
    "   <ul>\n",
    "   <li> We will learn the different components in EDA and how to manipulate, query, slice, and clean up data using <kbd>pandas</kbd> and <kbd>numpy</kbd>. </li>\n",
    "   <li> We will learn high-level concepts of visualization, such as how to choose an appropriate design, and how to write the code to implement visualizations in <kbd>matplotlib</kbd>.</li>  \n",
    "    <li> There are hundreds of functions with thousands of arguments that we can use. I do not know many of these, and I forget a lot of them, and then I run to my mommy (genAI) for help. The key exercise for you is to keep <b>practicing, researching and exploring</b>. \n",
    "   </ul>\n",
    "\n",
    "To start, let's have a quick walk through of <kbd>numpy</kbd>, and then introduce <kbd>pandas</kbd>. \n",
    "</div>"
   ]
  },
  {
   "cell_type": "markdown",
   "metadata": {},
   "source": [
    "<div class=\"alert alert-block alert-warning\">  \n",
    "<h3> Outline </h3>\n",
    "    \n",
    "\n",
    "* 1.0 Create an environment  \n",
    "* 1.1 Introduction to <kbd>numpy</kbd> \n",
    "* 1.2 Introduction to <kbd>pandas</kbd>\n",
    "    * 1.2-1 Basic operations on pandas series\n",
    "        * a. Creating series\n",
    "        * b. Series indices and indexing\n",
    "        * c. Missing values\n",
    "    * 1.2-2 Basic operations on pandas data frames\n",
    "        * a. DataFrame indexing\n",
    "        * b. Functions on columns\n",
    "        * c. Missing values\n",
    "        * d. Altering data frames\n",
    "* 1.3 The first steps of EDA using <kbd>pandas</kbd>\n",
    "</div>"
   ]
  },
  {
   "cell_type": "markdown",
   "metadata": {},
   "source": [
    "### 1.0 Create an environment\n",
    "\n",
    "You will learn about this in more detail in the programming class, but we should get used to creating virtual environments to isolate the work we are doing for each class. We can create a new virtual environment for this course by running the following commands:\n",
    "\n",
    "`python3 -m venv eda`  \n",
    "`source eda/bin/activate`  \n",
    "\n",
    "You should notice, in the terminal, that you have switched over to the virtual environment. To deactivate, simply run  \n",
    "`deactivate`\n",
    "\n",
    "I would suggest creating all of your virtual environments somewhere central, with the same path so that it's easy to remember, and avoid adding them to a git repository. I put mine in folder `~/tmp/env/`.\n",
    "\n",
    "At this point we can install the libraries that we need in order to run the code below. For right now we need numpy, pandas, and ipykernel.\n",
    "\n",
    "Let's try these versions of numpy, pandas and ipykernel:\n",
    "\n",
    "`pip install numpy==2.0.2 pandas==2.3.0 ipykernel==6.29.5`"
   ]
  },
  {
   "cell_type": "markdown",
   "metadata": {},
   "source": [
    "### 1.1 Introduction to <kbd>numpy</kbd>\n",
    "\n",
    "Pandas uses NumPy in its implementation so it makes sense to take a look at numpy first. Numpy is how we will do most of our numerical computing. It provides flexible implementations of vectors and matrices (`ndarray`) and fast operations and functions for linear algebra, random number generation, etc.\n",
    "\n",
    "I always start with the following preamble in my notebooks or Python files:"
   ]
  },
  {
   "cell_type": "code",
   "execution_count": 1,
   "metadata": {},
   "outputs": [],
   "source": [
    "import numpy as np\n",
    "import pandas as pd"
   ]
  },
  {
   "cell_type": "markdown",
   "metadata": {},
   "source": [
    "That allows us to refer to numpy package elements with the shorthand `np` and the shorthand for pandas as `pd`.\n",
    "\n",
    "To give you a taste, here's how we would create two vectors, add them together, and display the result:"
   ]
  },
  {
   "cell_type": "code",
   "execution_count": 2,
   "metadata": {},
   "outputs": [
    {
     "name": "stdout",
     "output_type": "stream",
     "text": [
      " type: <class 'numpy.ndarray'>\n",
      "shape: (3,)\n"
     ]
    },
    {
     "data": {
      "text/plain": [
       "array([-3, -3, -3])"
      ]
     },
     "execution_count": 2,
     "metadata": {},
     "output_type": "execute_result"
    }
   ],
   "source": [
    "a = np.array([1,2,3]) # create vector a=[1,2,3]\n",
    "b = np.array([4,5,6]) # create vector b=[4,5,6]\n",
    "print(\" type:\", type(a)) # check the type of a in python\n",
    "print(\"shape:\", a.shape) # check the shape of a in python\n",
    "a - b   # basic math"
   ]
  },
  {
   "cell_type": "markdown",
   "metadata": {},
   "source": [
    "Here's a 2 x 3 matrix with random elements:"
   ]
  },
  {
   "cell_type": "code",
   "execution_count": 3,
   "metadata": {},
   "outputs": [
    {
     "name": "stdout",
     "output_type": "stream",
     "text": [
      "<class 'numpy.ndarray'>\n",
      "(2, 3)\n",
      "[[1 2 3]\n",
      " [4 5 6]]\n"
     ]
    }
   ],
   "source": [
    "C = np.array([[1,2,3],[4,5,6]]) # this is like a \"list of lists\" in Python\n",
    "print(type(C))\n",
    "print(C.shape)\n",
    "print(C)"
   ]
  },
  {
   "cell_type": "markdown",
   "metadata": {},
   "source": [
    "And the following `@` operator does a matrix multiply $Ca$:"
   ]
  },
  {
   "cell_type": "code",
   "execution_count": 4,
   "metadata": {},
   "outputs": [
    {
     "data": {
      "text/plain": [
       "array([14, 32])"
      ]
     },
     "execution_count": 4,
     "metadata": {},
     "output_type": "execute_result"
    }
   ],
   "source": [
    "C @ a"
   ]
  },
  {
   "cell_type": "code",
   "execution_count": 5,
   "metadata": {},
   "outputs": [
    {
     "data": {
      "text/plain": [
       "array([14, 32])"
      ]
     },
     "execution_count": 5,
     "metadata": {},
     "output_type": "execute_result"
    }
   ],
   "source": [
    "C.dot(a)"
   ]
  },
  {
   "cell_type": "markdown",
   "metadata": {},
   "source": [
    "<div class=\"alert alert-block alert-success\">\n",
    "Notice that we didn't need any Python looping to implement matrix multiplication ourselves. All of this is built into numpy. This just scratches the surface but gives you a taste of what's possible with numpy, and we will see more as we go through the course. \n",
    "    </div>"
   ]
  },
  {
   "cell_type": "markdown",
   "metadata": {},
   "source": [
    "### 1.2 Introduction to <kbd>pandas</kbd>\n",
    "\n",
    "Pandas is kind of like a table in a database or a spreadsheet that we can manipulate programmatically in Python. Pandas has two primary entities that you must be careful to distinguish between to avoid getting confused:\n",
    "\n",
    "<ul>\n",
    "<li><kbd>DataFrame</kbd> is a 2D tabular data structure; it has both rows and columns</li>\n",
    "<li><kbd>Series</kbd> is a 1D array (column) data structure</li>\n",
    "    </ul>\n",
    "    \n",
    "While a series looks like a column from a data frame, it is a separate object with different sets of functions that you can apply to it. It is so important to distinguish between them that you may want to consider prefixing the name of all data frame objects with *df_*, such as *df_salesinfo*."
   ]
  },
  {
   "cell_type": "markdown",
   "metadata": {},
   "source": [
    "<div class=\"alert alert-block alert-success\">\n",
    "Pandas data frames will be your primary data structure until machine learning, where you will learn how to build more complicated data structures such as decision trees. In time series we will see more pandas series objects. \n",
    "</div>"
   ]
  },
  {
   "cell_type": "markdown",
   "metadata": {},
   "source": [
    "<div class=\"alert alert-block alert-success\">\n",
    "<b>Introduction to <kbd>pandas</kbd> outline:</b>\n",
    "    \n",
    "<ol>\n",
    "\n",
    "<li>Series: indexing, operation and missing values</li>\n",
    "<li>Data frame: selecting, slicing, method chaining, indexes and missing values</li>\n",
    "<li>The first steps of EDA using <kbd>pandas</kbd></li>\n",
    "\n",
    "\n",
    "</ol>"
   ]
  },
  {
   "cell_type": "markdown",
   "metadata": {},
   "source": [
    "### 1.2-1. Basic operations on pandas series\n",
    "\n",
    "A series object is a one-dimensional sequence of values, all with the same data type. For example, I could have a series of integers, strings, or floating-point numbers. We can think about series as columns of dataframes to get familiar with the operations. Later, we will see more of its own value in time series. "
   ]
  },
  {
   "cell_type": "markdown",
   "metadata": {},
   "source": [
    "### a. Creating pandas series"
   ]
  },
  {
   "cell_type": "markdown",
   "metadata": {},
   "source": [
    "#### Element data types\n",
    "\n",
    "You can learn more about all of the [pandas data types](https://numpy.org/doc/stable/user/basics.types.html), but the key idea is that we must distinguish between integers, floating-point values (reals), boolean, strings, and datetime.\n",
    "\n",
    "\n",
    "|Description| Python | Pandas|\n",
    "| ----------- | --------- | ---- |\n",
    "|Integers| `int`|`int64`|\n",
    "|Text| `str`| `object`|\n",
    "|Double/Float| `float`|`float64` |\n",
    "|Boolean (T/F)| `bool`| `bool`|\n",
    "|Date/Time| `datetime` | `datetime64`|\n",
    "|[Categorical](https://pandas.pydata.org/pandas-docs/stable/user_guide/categorical.html)| n/a | `category` (held internally as an integer)|\n",
    "\n",
    "\n",
    "All entities in Python have both a value and associated type; everything is just bits in the computer and so Python needs to know how to interpret the bits as a string or number or date. Different types behave differently and respond to a different set of functions."
   ]
  },
  {
   "cell_type": "code",
   "execution_count": 6,
   "metadata": {},
   "outputs": [
    {
     "name": "stdout",
     "output_type": "stream",
     "text": [
      "<class 'pandas.core.series.Series'>\n"
     ]
    },
    {
     "data": {
      "text/plain": [
       "0      10.0\n",
       "1       2.4\n",
       "2      81.0\n",
       "3    1005.0\n",
       "dtype: float64"
      ]
     },
     "execution_count": 6,
     "metadata": {},
     "output_type": "execute_result"
    }
   ],
   "source": [
    "# make a series with four numbers of type float\n",
    "\n",
    "a = pd.Series([10,2.4,81,1005])  \n",
    "print(type(a))\n",
    "a"
   ]
  },
  {
   "cell_type": "code",
   "execution_count": 7,
   "metadata": {},
   "outputs": [
    {
     "data": {
      "text/plain": [
       "(4, dtype('float64'))"
      ]
     },
     "execution_count": 7,
     "metadata": {},
     "output_type": "execute_result"
    }
   ],
   "source": [
    "len(a), a.dtype"
   ]
  },
  {
   "cell_type": "code",
   "execution_count": 8,
   "metadata": {},
   "outputs": [
    {
     "name": "stdout",
     "output_type": "stream",
     "text": [
      "Type is object\n"
     ]
    },
    {
     "data": {
      "text/plain": [
       "0      Xue\n",
       "1     Mary\n",
       "2    Ollie\n",
       "dtype: object"
      ]
     },
     "execution_count": 8,
     "metadata": {},
     "output_type": "execute_result"
    }
   ],
   "source": [
    "# make a series with strings of type object\n",
    "\n",
    "b = pd.Series(['Xue','Mary','Ollie']) \n",
    "print(\"Type is\", b.dtype)\n",
    "b"
   ]
  },
  {
   "cell_type": "markdown",
   "metadata": {},
   "source": [
    "There are lots of functions you can perform on series. For example, here are some operations for numerical columns:"
   ]
  },
  {
   "cell_type": "code",
   "execution_count": 9,
   "metadata": {},
   "outputs": [
    {
     "data": {
      "text/plain": [
       "(np.float64(2.4),\n",
       " np.float64(1005.0),\n",
       " np.float64(274.6),\n",
       " np.float64(1098.4),\n",
       " np.int64(4))"
      ]
     },
     "execution_count": 9,
     "metadata": {},
     "output_type": "execute_result"
    }
   ],
   "source": [
    "a.min(), a.max(), a.mean(), a.sum(), a.count()"
   ]
  },
  {
   "cell_type": "markdown",
   "metadata": {},
   "source": [
    "The string-related functions are available using the `str` member of the series:"
   ]
  },
  {
   "cell_type": "code",
   "execution_count": 10,
   "metadata": {},
   "outputs": [
    {
     "data": {
      "text/plain": [
       "0      xue\n",
       "1     mary\n",
       "2    ollie\n",
       "dtype: object"
      ]
     },
     "execution_count": 10,
     "metadata": {},
     "output_type": "execute_result"
    }
   ],
   "source": [
    "b.str.lower() #convert uppercases to lowercases"
   ]
  },
  {
   "cell_type": "code",
   "execution_count": 11,
   "metadata": {},
   "outputs": [
    {
     "data": {
      "text/html": [
       "<div>\n",
       "<style scoped>\n",
       "    .dataframe tbody tr th:only-of-type {\n",
       "        vertical-align: middle;\n",
       "    }\n",
       "\n",
       "    .dataframe tbody tr th {\n",
       "        vertical-align: top;\n",
       "    }\n",
       "\n",
       "    .dataframe thead th {\n",
       "        text-align: right;\n",
       "    }\n",
       "</style>\n",
       "<table border=\"1\" class=\"dataframe\">\n",
       "  <thead>\n",
       "    <tr style=\"text-align: right;\">\n",
       "      <th></th>\n",
       "      <th>0</th>\n",
       "    </tr>\n",
       "  </thead>\n",
       "  <tbody>\n",
       "    <tr>\n",
       "      <th>0</th>\n",
       "      <td>X</td>\n",
       "    </tr>\n",
       "    <tr>\n",
       "      <th>1</th>\n",
       "      <td>M</td>\n",
       "    </tr>\n",
       "    <tr>\n",
       "      <th>2</th>\n",
       "      <td>O</td>\n",
       "    </tr>\n",
       "  </tbody>\n",
       "</table>\n",
       "</div>"
      ],
      "text/plain": [
       "   0\n",
       "0  X\n",
       "1  M\n",
       "2  O"
      ]
     },
     "execution_count": 11,
     "metadata": {},
     "output_type": "execute_result"
    }
   ],
   "source": [
    "b.str.extract(\"([A-Z])\") #extract the first uppercase letter using regular expression"
   ]
  },
  {
   "cell_type": "markdown",
   "metadata": {},
   "source": [
    "<div class=\"alert alert-block alert-danger\">\n",
    "    \n",
    "<b> Practice 1</b>\n",
    "\n",
    "<ol>\n",
    "    \n",
    "<li>Run all the code above and make sure everything works</li>\n",
    "<li>Create a new notebook called \"Notebook 1 Practice\", import <kbd>numpy</kbd> and <kbd>pandas</kbd></li>\n",
    "<li>Create a series `name` to record the names (first and last) of three classmates around you.</li>\n",
    "<li>Convert all names to upper case.</li>\n",
    "<li>Create a series `age` to record the age of the same three classmates around you.</li> \n",
    "<li>Calculate the average(mean) age of the series `age`.</li>     \n",
    "</ol>            \n",
    "\n",
    "\n",
    "</div>"
   ]
  },
  {
   "cell_type": "markdown",
   "metadata": {},
   "source": [
    "### b. Series indexes and indexing\n",
    "\n",
    "Each series object has an associated index that sort of names the elements of the series, just as the index of the data frame identifies the rows of the data (see later).  The index values are commonly integers or strings. If we don't specifically specify an index, the index is just a series of consecutive integers starting from zero. The series then behaves just like a list in Python when we use the brackets `[...]` index operator.\n",
    "\n",
    "We all understand the idea of a list of numbers in Python and we access the elements using the same syntax. The only difference is that the values inside the `[...]` can only be integers for Python lists. In pandas, the index type to use must be the same as the type of the index of the series.\n",
    "\n",
    "This shows the standard index is simply the integer positions:"
   ]
  },
  {
   "cell_type": "code",
   "execution_count": 12,
   "metadata": {},
   "outputs": [
    {
     "data": {
      "text/plain": [
       "0      10.0\n",
       "1       2.4\n",
       "2      81.0\n",
       "3    1005.0\n",
       "dtype: float64"
      ]
     },
     "execution_count": 12,
     "metadata": {},
     "output_type": "execute_result"
    }
   ],
   "source": [
    "a"
   ]
  },
  {
   "cell_type": "code",
   "execution_count": 13,
   "metadata": {},
   "outputs": [
    {
     "data": {
      "text/plain": [
       "RangeIndex(start=0, stop=4, step=1)"
      ]
     },
     "execution_count": 13,
     "metadata": {},
     "output_type": "execute_result"
    }
   ],
   "source": [
    "a.index"
   ]
  },
  {
   "cell_type": "code",
   "execution_count": 14,
   "metadata": {},
   "outputs": [
    {
     "data": {
      "text/plain": [
       "np.float64(81.0)"
      ]
     },
     "execution_count": 14,
     "metadata": {},
     "output_type": "execute_result"
    }
   ],
   "source": [
    "a[2]"
   ]
  },
  {
   "cell_type": "markdown",
   "metadata": {},
   "source": [
    "But, we can create a series with, for example, an index whose members are strings:"
   ]
  },
  {
   "cell_type": "code",
   "execution_count": 15,
   "metadata": {},
   "outputs": [
    {
     "data": {
      "text/plain": [
       "t      10.0\n",
       "u       2.4\n",
       "v      81.0\n",
       "w    1005.0\n",
       "dtype: float64"
      ]
     },
     "execution_count": 15,
     "metadata": {},
     "output_type": "execute_result"
    }
   ],
   "source": [
    "b = pd.Series([10,2.4,81,1005], index=['t','u','v','w'])\n",
    "b"
   ]
  },
  {
   "cell_type": "code",
   "execution_count": 16,
   "metadata": {},
   "outputs": [
    {
     "data": {
      "text/plain": [
       "Index(['t', 'u', 'v', 'w'], dtype='object')"
      ]
     },
     "execution_count": 16,
     "metadata": {},
     "output_type": "execute_result"
    }
   ],
   "source": [
    "b.index"
   ]
  },
  {
   "cell_type": "code",
   "execution_count": 17,
   "metadata": {},
   "outputs": [
    {
     "data": {
      "text/plain": [
       "(np.float64(81.0), np.float64(1005.0))"
      ]
     },
     "execution_count": 17,
     "metadata": {},
     "output_type": "execute_result"
    }
   ],
   "source": [
    "a[2], a[3]"
   ]
  },
  {
   "cell_type": "code",
   "execution_count": 18,
   "metadata": {},
   "outputs": [
    {
     "data": {
      "text/plain": [
       "(np.float64(2.4), np.float64(1005.0))"
      ]
     },
     "execution_count": 18,
     "metadata": {},
     "output_type": "execute_result"
    }
   ],
   "source": [
    "b['u'], b['w']"
   ]
  },
  {
   "cell_type": "code",
   "execution_count": 19,
   "metadata": {},
   "outputs": [
    {
     "name": "stderr",
     "output_type": "stream",
     "text": [
      "/var/folders/ys/9yhqqzxn453_1c837bs89r_m0000gn/T/ipykernel_6892/2071817343.py:1: FutureWarning: Series.__getitem__ treating keys as positions is deprecated. In a future version, integer keys will always be treated as labels (consistent with DataFrame behavior). To access a value by position, use `ser.iloc[pos]`\n",
      "  b[2],b[3]\n"
     ]
    },
    {
     "data": {
      "text/plain": [
       "(np.float64(81.0), np.float64(1005.0))"
      ]
     },
     "execution_count": 19,
     "metadata": {},
     "output_type": "execute_result"
    }
   ],
   "source": [
    "b[2],b[3]"
   ]
  },
  {
   "cell_type": "markdown",
   "metadata": {},
   "source": [
    "While this direct indexing looks convenient, it's better to use the more verbose but explicit `iloc` or `loc`. This advantgage will show better in the data frame case."
   ]
  },
  {
   "cell_type": "markdown",
   "metadata": {},
   "source": [
    "<div class=\"alert alert-block alert-success\">\n",
    "    \n",
    "The main distinction between `loc` and `iloc` is: `loc` is label-based, which means that you have to specify rows and columns based on their row and column labels. `iloc` is integer position-based, so you have to specify rows and columns by their integer position values (0-based integer position)\n",
    "    \n",
    "</div>"
   ]
  },
  {
   "cell_type": "code",
   "execution_count": 20,
   "metadata": {},
   "outputs": [
    {
     "data": {
      "text/plain": [
       "(np.float64(81.0), np.float64(81.0))"
      ]
     },
     "execution_count": 20,
     "metadata": {},
     "output_type": "execute_result"
    }
   ],
   "source": [
    "a.iloc[2], a.loc[2]"
   ]
  },
  {
   "cell_type": "code",
   "execution_count": 21,
   "metadata": {},
   "outputs": [
    {
     "data": {
      "text/plain": [
       "(np.float64(2.4), np.float64(2.4))"
      ]
     },
     "execution_count": 21,
     "metadata": {},
     "output_type": "execute_result"
    }
   ],
   "source": [
    "b.loc['u'], b.iloc[1]"
   ]
  },
  {
   "cell_type": "markdown",
   "metadata": {},
   "source": [
    "We can use the same notation to set values"
   ]
  },
  {
   "cell_type": "code",
   "execution_count": 22,
   "metadata": {},
   "outputs": [
    {
     "data": {
      "text/plain": [
       "0      10.0\n",
       "1       2.4\n",
       "2      81.0\n",
       "3    1005.0\n",
       "dtype: float64"
      ]
     },
     "execution_count": 22,
     "metadata": {},
     "output_type": "execute_result"
    }
   ],
   "source": [
    "a"
   ]
  },
  {
   "cell_type": "code",
   "execution_count": 23,
   "metadata": {},
   "outputs": [
    {
     "data": {
      "text/plain": [
       "0      10.0\n",
       "1       2.4\n",
       "2    9999.0\n",
       "3    1005.0\n",
       "dtype: float64"
      ]
     },
     "execution_count": 23,
     "metadata": {},
     "output_type": "execute_result"
    }
   ],
   "source": [
    "a.iloc[2] = 9999\n",
    "a"
   ]
  },
  {
   "cell_type": "code",
   "execution_count": 24,
   "metadata": {},
   "outputs": [
    {
     "data": {
      "text/plain": [
       "t      10.0\n",
       "u    9999.0\n",
       "v      81.0\n",
       "w    1005.0\n",
       "dtype: float64"
      ]
     },
     "execution_count": 24,
     "metadata": {},
     "output_type": "execute_result"
    }
   ],
   "source": [
    "b.loc['u'] = 9999\n",
    "b"
   ]
  },
  {
   "cell_type": "markdown",
   "metadata": {},
   "source": [
    "### Selecting multiple values with indexing\n",
    "\n",
    "We can even use **multiple values** when indexing:"
   ]
  },
  {
   "cell_type": "code",
   "execution_count": 25,
   "metadata": {},
   "outputs": [
    {
     "data": {
      "text/plain": [
       "u    9999.0\n",
       "w    1005.0\n",
       "dtype: float64"
      ]
     },
     "execution_count": 25,
     "metadata": {},
     "output_type": "execute_result"
    }
   ],
   "source": [
    "b.loc[['u','w']] # a list of indice ['u','w']"
   ]
  },
  {
   "cell_type": "markdown",
   "metadata": {},
   "source": [
    "<div class=\"alert alert-block alert-danger\">\n",
    "    \n",
    "How do we select multiple values with `iloc`?\n",
    "\n",
    "</div>"
   ]
  },
  {
   "cell_type": "markdown",
   "metadata": {},
   "source": [
    "<div class=\"alert alert-block alert-danger\">\n",
    "    \n",
    "<b> Practice 2</b>\n",
    "\n",
    "<ol>\n",
    "    \n",
    "<li>Define a new series where the values are the ages and the index is the names</li>\n",
    "<li> Try to use `[...]`, `loc` and `iloc` to select value(s) from your series </li> \n",
    "</ol>            \n",
    "\n",
    "\n",
    "</div>"
   ]
  },
  {
   "cell_type": "markdown",
   "metadata": {},
   "source": [
    "### Pandas matches up series index values\n",
    "\n",
    "Pandas matches up series index values.\n",
    "The index of the series elements makes column arithmetic (like a+b) a little more complex but much more sophisticated. \n",
    "\n",
    "For example, imagine that we have values associated with multiple states in the US, but where the values are not lined up according to state:"
   ]
  },
  {
   "cell_type": "code",
   "execution_count": 26,
   "metadata": {},
   "outputs": [
    {
     "name": "stdout",
     "output_type": "stream",
     "text": [
      "WA    100\n",
      "NV    110\n",
      "CA    200\n",
      "IA     45\n",
      "dtype: int64\n",
      "IA    20\n",
      "NV    25\n",
      "WA     5\n",
      "dtype: int64\n"
     ]
    }
   ],
   "source": [
    "income = pd.Series([100,110,200,45], index=['WA','NV','CA','IA'])\n",
    "taxes  = pd.Series([20,25,5], index=['IA','NV','WA']) # different order\n",
    "print(income)\n",
    "print(taxes)"
   ]
  },
  {
   "cell_type": "code",
   "execution_count": 27,
   "metadata": {},
   "outputs": [
    {
     "data": {
      "text/plain": [
       "CA     NaN\n",
       "IA    25.0\n",
       "NV    85.0\n",
       "WA    95.0\n",
       "dtype: float64"
      ]
     },
     "execution_count": 27,
     "metadata": {},
     "output_type": "execute_result"
    }
   ],
   "source": [
    "income - taxes"
   ]
  },
  {
   "cell_type": "markdown",
   "metadata": {},
   "source": [
    "<div class=\"alert alert-block alert-success\">\n",
    "The key thing to notice here is that we don't have tax information for CA. When we add the two series together, pandas lines them up according to the index values so that things match up: WA to WA etc.\n",
    "</div>"
   ]
  },
  {
   "cell_type": "markdown",
   "metadata": {},
   "source": [
    "### Relational operators for series\n",
    "\n",
    "To give you a taste of the power of pandas,  we can even use relational operators to select elements from a series. Here's how to get all values less than 100 from `a`:"
   ]
  },
  {
   "cell_type": "code",
   "execution_count": 28,
   "metadata": {},
   "outputs": [
    {
     "data": {
      "text/plain": [
       "0    10.0\n",
       "1     2.4\n",
       "dtype: float64"
      ]
     },
     "execution_count": 28,
     "metadata": {},
     "output_type": "execute_result"
    }
   ],
   "source": [
    "a.loc[a<100]"
   ]
  },
  {
   "cell_type": "code",
   "execution_count": 29,
   "metadata": {},
   "outputs": [
    {
     "data": {
      "text/plain": [
       "0     True\n",
       "1     True\n",
       "2    False\n",
       "3    False\n",
       "dtype: bool"
      ]
     },
     "execution_count": 29,
     "metadata": {},
     "output_type": "execute_result"
    }
   ],
   "source": [
    "a<100"
   ]
  },
  {
   "cell_type": "markdown",
   "metadata": {},
   "source": [
    "###  Series look like dictionaries\n",
    "\n",
    "You can think of a series as a dictionary where the index values map to values in the series. But, unlike dictionaries, Series index values do not have to be unique:"
   ]
  },
  {
   "cell_type": "code",
   "execution_count": 30,
   "metadata": {},
   "outputs": [
    {
     "data": {
      "text/plain": [
       "u    1\n",
       "u    2\n",
       "t    3\n",
       "dtype: int64"
      ]
     },
     "execution_count": 30,
     "metadata": {},
     "output_type": "execute_result"
    }
   ],
   "source": [
    "x = pd.Series([1,2,3], index=['u','u','t'])\n",
    "x"
   ]
  },
  {
   "cell_type": "code",
   "execution_count": 31,
   "metadata": {},
   "outputs": [],
   "source": [
    "y = pd.Series([3,1,2], index=['u','d','t'])"
   ]
  },
  {
   "cell_type": "code",
   "execution_count": 32,
   "metadata": {},
   "outputs": [
    {
     "data": {
      "text/plain": [
       "d    NaN\n",
       "t    5.0\n",
       "u    4.0\n",
       "u    5.0\n",
       "dtype: float64"
      ]
     },
     "execution_count": 32,
     "metadata": {},
     "output_type": "execute_result"
    }
   ],
   "source": [
    "y+x"
   ]
  },
  {
   "cell_type": "code",
   "execution_count": 33,
   "metadata": {},
   "outputs": [
    {
     "data": {
      "text/plain": [
       "u    1\n",
       "u    2\n",
       "dtype: int64"
      ]
     },
     "execution_count": 33,
     "metadata": {},
     "output_type": "execute_result"
    }
   ],
   "source": [
    "x.loc['u']"
   ]
  },
  {
   "cell_type": "markdown",
   "metadata": {},
   "source": [
    "### Arithmetic with series\n",
    "\n",
    "As with numpy vectors, we can add series together and perform lots of other operations. Let's make some simple series of numbers and add them together:"
   ]
  },
  {
   "cell_type": "code",
   "execution_count": 34,
   "metadata": {},
   "outputs": [
    {
     "name": "stdout",
     "output_type": "stream",
     "text": [
      "0    5\n",
      "1    6\n",
      "2    7\n",
      "3    8\n",
      "4    9\n",
      "dtype: int64\n",
      "0    30\n",
      "1    31\n",
      "2    32\n",
      "3    33\n",
      "4    34\n",
      "dtype: int64\n"
     ]
    }
   ],
   "source": [
    "a = pd.Series(range(5,10))\n",
    "b = pd.Series(range(30,35))\n",
    "print(a)\n",
    "print(b)"
   ]
  },
  {
   "cell_type": "code",
   "execution_count": 35,
   "metadata": {},
   "outputs": [
    {
     "data": {
      "text/plain": [
       "0    35\n",
       "1    37\n",
       "2    39\n",
       "3    41\n",
       "4    43\n",
       "dtype: int64"
      ]
     },
     "execution_count": 35,
     "metadata": {},
     "output_type": "execute_result"
    }
   ],
   "source": [
    "a+b"
   ]
  },
  {
   "cell_type": "code",
   "execution_count": 36,
   "metadata": {},
   "outputs": [
    {
     "data": {
      "text/plain": [
       "array([5, 6, 7, 8, 9])"
      ]
     },
     "execution_count": 36,
     "metadata": {},
     "output_type": "execute_result"
    }
   ],
   "source": [
    "a.values # get numpy array underlying the series"
   ]
  },
  {
   "cell_type": "code",
   "execution_count": 37,
   "metadata": {},
   "outputs": [
    {
     "data": {
      "text/plain": [
       "array([35, 37, 39, 41, 43])"
      ]
     },
     "execution_count": 37,
     "metadata": {},
     "output_type": "execute_result"
    }
   ],
   "source": [
    "a.values + b.values"
   ]
  },
  {
   "cell_type": "code",
   "execution_count": 38,
   "metadata": {},
   "outputs": [
    {
     "data": {
      "text/plain": [
       "array([35, 37, 39, 41, 43])"
      ]
     },
     "execution_count": 38,
     "metadata": {},
     "output_type": "execute_result"
    }
   ],
   "source": [
    "(a+b).values"
   ]
  },
  {
   "cell_type": "markdown",
   "metadata": {},
   "source": [
    "<div class=\"alert alert-block alert-success\">\n",
    "Keep in mind: Any arithmetic involving a nan, results in a nan.\n",
    "</div>"
   ]
  },
  {
   "cell_type": "markdown",
   "metadata": {},
   "source": [
    "### c. Missing values in series\n",
    "\n",
    "Real-world data sets often have missing values. People who recorded the data have different ways to represent missing data. A common way to do this is to choose a sentinel value like -1 or a string like 'n/a' or 'missing', or leaving it blank. I've also seen datasets where 9999 was used as the missing value indicator for year values. \n",
    "\n",
    "Pandas formalizes missing values by representing them as \"not a number\", a special floating-point value, `np.nan`, from numpy that indicates the value is invalid and should not be treated as valid."
   ]
  },
  {
   "cell_type": "code",
   "execution_count": 39,
   "metadata": {},
   "outputs": [
    {
     "data": {
      "text/plain": [
       "0    10.0\n",
       "1    20.0\n",
       "2     NaN\n",
       "3    40.0\n",
       "dtype: float64"
      ]
     },
     "execution_count": 39,
     "metadata": {},
     "output_type": "execute_result"
    }
   ],
   "source": [
    "c = pd.Series([10,20,np.nan,40])\n",
    "c"
   ]
  },
  {
   "cell_type": "markdown",
   "metadata": {},
   "source": [
    "When doing EDA, it's very common to ask if there are missing values, which we can do with `isnull()`:"
   ]
  },
  {
   "cell_type": "code",
   "execution_count": 40,
   "metadata": {},
   "outputs": [
    {
     "data": {
      "text/plain": [
       "0    False\n",
       "1    False\n",
       "2     True\n",
       "3    False\n",
       "dtype: bool"
      ]
     },
     "execution_count": 40,
     "metadata": {},
     "output_type": "execute_result"
    }
   ],
   "source": [
    "c.isnull() # return a Boolean indicating whether the series value is nan or correct"
   ]
  },
  {
   "cell_type": "markdown",
   "metadata": {},
   "source": [
    "<div class=\"alert alert-block alert-success\">\n",
    "    \n",
    "<b>A subtle but important point here</b>: `np.nan` has type `float` and, since all values in a series must be the same type, a series of integer values with at least one missing value causes the entire series to be floating-point. But, non-numeric series stay as `object`.\n",
    "    \n",
    "</div>"
   ]
  },
  {
   "cell_type": "code",
   "execution_count": 41,
   "metadata": {},
   "outputs": [
    {
     "data": {
      "text/plain": [
       "0     hi\n",
       "1    mom\n",
       "2    NaN\n",
       "dtype: object"
      ]
     },
     "execution_count": 41,
     "metadata": {},
     "output_type": "execute_result"
    }
   ],
   "source": [
    "d = pd.Series(['hi','mom',np.nan])\n",
    "d"
   ]
  },
  {
   "cell_type": "code",
   "execution_count": 42,
   "metadata": {},
   "outputs": [
    {
     "data": {
      "text/plain": [
       "0    False\n",
       "1    False\n",
       "2     True\n",
       "dtype: bool"
      ]
     },
     "execution_count": 42,
     "metadata": {},
     "output_type": "execute_result"
    }
   ],
   "source": [
    "d.isnull()"
   ]
  },
  {
   "cell_type": "markdown",
   "metadata": {},
   "source": [
    "To get all of the non-missing data"
   ]
  },
  {
   "cell_type": "code",
   "execution_count": 43,
   "metadata": {},
   "outputs": [
    {
     "data": {
      "text/plain": [
       "0    10.0\n",
       "1    20.0\n",
       "3    40.0\n",
       "dtype: float64"
      ]
     },
     "execution_count": 43,
     "metadata": {},
     "output_type": "execute_result"
    }
   ],
   "source": [
    "c.loc[~c.isnull()]  # ~c.isnull() means \"not null\" or \"not np.nan\""
   ]
  },
  {
   "cell_type": "code",
   "execution_count": 44,
   "metadata": {},
   "outputs": [
    {
     "data": {
      "text/plain": [
       "0     hi\n",
       "1    mom\n",
       "dtype: object"
      ]
     },
     "execution_count": 44,
     "metadata": {},
     "output_type": "execute_result"
    }
   ],
   "source": [
    "d.loc[~d.isnull()]"
   ]
  },
  {
   "cell_type": "markdown",
   "metadata": {},
   "source": [
    "If you ever want a version of a series with the NaNs replaced with a fill value, there is a handy function for you:"
   ]
  },
  {
   "cell_type": "code",
   "execution_count": 45,
   "metadata": {},
   "outputs": [
    {
     "data": {
      "text/plain": [
       "0      10.0\n",
       "1      20.0\n",
       "2    1000.0\n",
       "3      40.0\n",
       "dtype: float64"
      ]
     },
     "execution_count": 45,
     "metadata": {},
     "output_type": "execute_result"
    }
   ],
   "source": [
    "c.fillna(1000)"
   ]
  },
  {
   "cell_type": "markdown",
   "metadata": {},
   "source": [
    "###  Functions do different things with missing values\n",
    "\n",
    "You must be very careful that you know how various functions behave with respect to np.nan. Here are some examples:"
   ]
  },
  {
   "cell_type": "code",
   "execution_count": 46,
   "metadata": {},
   "outputs": [
    {
     "data": {
      "text/plain": [
       "0    10.0\n",
       "1    20.0\n",
       "2     NaN\n",
       "3    40.0\n",
       "dtype: float64"
      ]
     },
     "execution_count": 46,
     "metadata": {},
     "output_type": "execute_result"
    }
   ],
   "source": [
    "c = pd.Series([10,20,np.nan,40])\n",
    "c"
   ]
  },
  {
   "cell_type": "code",
   "execution_count": 47,
   "metadata": {},
   "outputs": [
    {
     "data": {
      "text/plain": [
       "(4, np.int64(3), np.float64(70.0), np.float64(nan), np.float64(70.0), nan)"
      ]
     },
     "execution_count": 47,
     "metadata": {},
     "output_type": "execute_result"
    }
   ],
   "source": [
    "len(c), c.count(), c.sum(), c.sum(skipna=False), np.sum(c), sum(c)"
   ]
  },
  {
   "cell_type": "code",
   "execution_count": 48,
   "metadata": {},
   "outputs": [
    {
     "data": {
      "text/plain": [
       "0     30.0\n",
       "1     60.0\n",
       "2      NaN\n",
       "3    120.0\n",
       "dtype: float64"
      ]
     },
     "execution_count": 48,
     "metadata": {},
     "output_type": "execute_result"
    }
   ],
   "source": [
    "c * 3"
   ]
  },
  {
   "cell_type": "markdown",
   "metadata": {},
   "source": [
    "<div class=\"alert alert-block alert-danger\">\n",
    "    \n",
    "<b> Practice 3</b>\n",
    "\n",
    "<ol>\n",
    "    \n",
    "<li>Add a new missing value to your series from Practice 2 with the index \"Robert\"</li>\n",
    "<li> Now try to find the average(mean) age of the series ignoring the missing value. There are different approaches to do this.  </li> \n",
    "</ol>            \n",
    "\n",
    "\n",
    "</div>"
   ]
  },
  {
   "cell_type": "markdown",
   "metadata": {},
   "source": [
    "### 1.2-2 Basic operations on pandas DataFrames\n",
    "\n",
    "A `DataFrame` object is a two-dimensional matrix with rows and columns just like a spreadsheet or database table. Each row corresponds to an <b>instance</b> or <b>observation</b>, and columns are <b>features</b> of this instance.  \n",
    "\n",
    "Each column can have different data types, but all values within a column must be of the same data type; the columns behave like series objects.\n",
    "\n",
    "DataFrame columns are ordered and the name-to-column mapping is stored in an index.  DataFrames also have an index for the rows, just like a series has an index into the values of the series. So, a data frame has two indexes which lets us zoom in, for example, on a specific element using row and column index values.\n",
    "\n"
   ]
  },
  {
   "cell_type": "markdown",
   "metadata": {},
   "source": [
    "Let's load the `cars.csv` data from the same directory as this notebook. You can download this file onto your own computer wherever you want, but make sure that you specify the appropriate file name when loading it with pandas."
   ]
  },
  {
   "cell_type": "code",
   "execution_count": 49,
   "metadata": {},
   "outputs": [],
   "source": [
    "df_cars = pd.read_csv(\"../data/cars.csv\")"
   ]
  },
  {
   "cell_type": "markdown",
   "metadata": {},
   "source": [
    "We can check the first few rows using `df.head()`"
   ]
  },
  {
   "cell_type": "code",
   "execution_count": 50,
   "metadata": {},
   "outputs": [
    {
     "data": {
      "text/html": [
       "<div>\n",
       "<style scoped>\n",
       "    .dataframe tbody tr th:only-of-type {\n",
       "        vertical-align: middle;\n",
       "    }\n",
       "\n",
       "    .dataframe tbody tr th {\n",
       "        vertical-align: top;\n",
       "    }\n",
       "\n",
       "    .dataframe thead th {\n",
       "        text-align: right;\n",
       "    }\n",
       "</style>\n",
       "<table border=\"1\" class=\"dataframe\">\n",
       "  <thead>\n",
       "    <tr style=\"text-align: right;\">\n",
       "      <th></th>\n",
       "      <th>MPG</th>\n",
       "      <th>CYL</th>\n",
       "      <th>ENG</th>\n",
       "      <th>WGT</th>\n",
       "    </tr>\n",
       "  </thead>\n",
       "  <tbody>\n",
       "    <tr>\n",
       "      <th>0</th>\n",
       "      <td>18.0</td>\n",
       "      <td>8</td>\n",
       "      <td>307.0</td>\n",
       "      <td>3504</td>\n",
       "    </tr>\n",
       "    <tr>\n",
       "      <th>1</th>\n",
       "      <td>15.0</td>\n",
       "      <td>8</td>\n",
       "      <td>350.0</td>\n",
       "      <td>3693</td>\n",
       "    </tr>\n",
       "    <tr>\n",
       "      <th>2</th>\n",
       "      <td>18.0</td>\n",
       "      <td>8</td>\n",
       "      <td>318.0</td>\n",
       "      <td>3436</td>\n",
       "    </tr>\n",
       "  </tbody>\n",
       "</table>\n",
       "</div>"
      ],
      "text/plain": [
       "    MPG  CYL    ENG   WGT\n",
       "0  18.0    8  307.0  3504\n",
       "1  15.0    8  350.0  3693\n",
       "2  18.0    8  318.0  3436"
      ]
     },
     "execution_count": 50,
     "metadata": {},
     "output_type": "execute_result"
    }
   ],
   "source": [
    "df_cars.head(3)"
   ]
  },
  {
   "cell_type": "markdown",
   "metadata": {},
   "source": [
    "### a. DataFrame indexing\n",
    "\n",
    "Recall that when you index into a series, you get an element.\n",
    "\n",
    "The default index of a pd.dataframe using `[...]` is the *column names*. The default index for the rows is just the integer position."
   ]
  },
  {
   "cell_type": "markdown",
   "metadata": {},
   "source": [
    "#### Column indexing\n",
    "\n",
    "Let's use `[...]` index operator, which gets a series object:"
   ]
  },
  {
   "cell_type": "code",
   "execution_count": 51,
   "metadata": {},
   "outputs": [
    {
     "data": {
      "text/plain": [
       "0      18.0\n",
       "1      15.0\n",
       "2      18.0\n",
       "3      16.0\n",
       "4      17.0\n",
       "       ... \n",
       "387    27.0\n",
       "388    44.0\n",
       "389    32.0\n",
       "390    28.0\n",
       "391    31.0\n",
       "Name: MPG, Length: 392, dtype: float64"
      ]
     },
     "execution_count": 51,
     "metadata": {},
     "output_type": "execute_result"
    }
   ],
   "source": [
    "df_cars['MPG'] "
   ]
  },
  {
   "cell_type": "code",
   "execution_count": 52,
   "metadata": {},
   "outputs": [
    {
     "data": {
      "text/plain": [
       "pandas.core.series.Series"
      ]
     },
     "execution_count": 52,
     "metadata": {},
     "output_type": "execute_result"
    }
   ],
   "source": [
    "type(df_cars['MPG'])"
   ]
  },
  {
   "cell_type": "code",
   "execution_count": 53,
   "metadata": {},
   "outputs": [
    {
     "data": {
      "text/plain": [
       "0      18.0\n",
       "1      15.0\n",
       "2      18.0\n",
       "3      16.0\n",
       "4      17.0\n",
       "       ... \n",
       "387    27.0\n",
       "388    44.0\n",
       "389    32.0\n",
       "390    28.0\n",
       "391    31.0\n",
       "Name: MPG, Length: 392, dtype: float64"
      ]
     },
     "execution_count": 53,
     "metadata": {},
     "output_type": "execute_result"
    }
   ],
   "source": [
    "mpg = df_cars['MPG']\n",
    "mpg"
   ]
  },
  {
   "cell_type": "markdown",
   "metadata": {},
   "source": [
    "Once we have a series object, we can use the series index to get elements (repetition to improve your retention):"
   ]
  },
  {
   "cell_type": "code",
   "execution_count": 54,
   "metadata": {},
   "outputs": [
    {
     "data": {
      "text/plain": [
       "(np.float64(16.0), np.float64(16.0))"
      ]
     },
     "execution_count": 54,
     "metadata": {},
     "output_type": "execute_result"
    }
   ],
   "source": [
    "mpg.iloc[3], mpg.loc[3] "
   ]
  },
  {
   "cell_type": "markdown",
   "metadata": {},
   "source": [
    "<div class=\"alert alert-block alert-danger\">\n",
    "    \n",
    "<b> Practice 4</b>\n",
    "Let's practice on the Kaggle competition dataset: [Kaggle's Uber Pickups in New York City competition](https://www.kaggle.com/fivethirtyeight/uber-pickups-in-new-york-city). A small subsest of the data is provided as `kaggle-uber-other-federal.csv` on canvas.\n",
    "\n",
    "<ol>\n",
    "    \n",
    "<li>Download and read it into a pandas DataFrame</li>\n",
    "<li>Extract the column `Status` and define it as a new series</li>\n",
    "<li>Extract the 10th index from the defined series</li>\n",
    "    \n",
    "</ol>            \n",
    "\n",
    "\n",
    "</div>"
   ]
  },
  {
   "cell_type": "markdown",
   "metadata": {},
   "source": [
    "#### Row indexing\n",
    "\n",
    "\n",
    "Let's look at the Uber data together now and extract three columns. Please note the use of a list as an index value and the fact that we get a data frame back not a series because we asked for more than one column:"
   ]
  },
  {
   "cell_type": "code",
   "execution_count": 55,
   "metadata": {},
   "outputs": [
    {
     "name": "stdout",
     "output_type": "stream",
     "text": [
      "<class 'pandas.core.frame.DataFrame'>\n"
     ]
    },
    {
     "data": {
      "text/html": [
       "<div>\n",
       "<style scoped>\n",
       "    .dataframe tbody tr th:only-of-type {\n",
       "        vertical-align: middle;\n",
       "    }\n",
       "\n",
       "    .dataframe tbody tr th {\n",
       "        vertical-align: top;\n",
       "    }\n",
       "\n",
       "    .dataframe thead th {\n",
       "        text-align: right;\n",
       "    }\n",
       "</style>\n",
       "<table border=\"1\" class=\"dataframe\">\n",
       "  <thead>\n",
       "    <tr style=\"text-align: right;\">\n",
       "      <th></th>\n",
       "      <th>Date</th>\n",
       "      <th>Time</th>\n",
       "      <th>Status</th>\n",
       "    </tr>\n",
       "  </thead>\n",
       "  <tbody>\n",
       "    <tr>\n",
       "      <th>0</th>\n",
       "      <td>07/01/2014</td>\n",
       "      <td>07:15 AM</td>\n",
       "      <td>Cancelled</td>\n",
       "    </tr>\n",
       "    <tr>\n",
       "      <th>1</th>\n",
       "      <td>07/01/2014</td>\n",
       "      <td>07:30 AM</td>\n",
       "      <td>Arrived</td>\n",
       "    </tr>\n",
       "    <tr>\n",
       "      <th>2</th>\n",
       "      <td>07/01/2014</td>\n",
       "      <td>08:00 AM</td>\n",
       "      <td>Assigned</td>\n",
       "    </tr>\n",
       "  </tbody>\n",
       "</table>\n",
       "</div>"
      ],
      "text/plain": [
       "         Date      Time     Status\n",
       "0  07/01/2014  07:15 AM  Cancelled\n",
       "1  07/01/2014  07:30 AM    Arrived\n",
       "2  07/01/2014  08:00 AM   Assigned"
      ]
     },
     "execution_count": 55,
     "metadata": {},
     "output_type": "execute_result"
    }
   ],
   "source": [
    "df_uber = pd.read_csv('../data/kaggle-uber-other-federal.csv')\n",
    "df_status= df_uber[['Date','Time','Status']]\n",
    "print(type(df_status))\n",
    "df_status.head(3)"
   ]
  },
  {
   "cell_type": "code",
   "execution_count": 56,
   "metadata": {},
   "outputs": [
    {
     "data": {
      "text/plain": [
       "RangeIndex(start=0, stop=99, step=1)"
      ]
     },
     "execution_count": 56,
     "metadata": {},
     "output_type": "execute_result"
    }
   ],
   "source": [
    "df_status.index"
   ]
  },
  {
   "cell_type": "code",
   "execution_count": 57,
   "metadata": {},
   "outputs": [
    {
     "data": {
      "text/plain": [
       "Date      07/01/2014\n",
       "Time        07:15 AM\n",
       "Status     Cancelled\n",
       "Name: 0, dtype: object"
      ]
     },
     "execution_count": 57,
     "metadata": {},
     "output_type": "execute_result"
    }
   ],
   "source": [
    "df_status.iloc[0] # first row"
   ]
  },
  {
   "cell_type": "code",
   "execution_count": 58,
   "metadata": {},
   "outputs": [
    {
     "data": {
      "text/html": [
       "<div>\n",
       "<style scoped>\n",
       "    .dataframe tbody tr th:only-of-type {\n",
       "        vertical-align: middle;\n",
       "    }\n",
       "\n",
       "    .dataframe tbody tr th {\n",
       "        vertical-align: top;\n",
       "    }\n",
       "\n",
       "    .dataframe thead th {\n",
       "        text-align: right;\n",
       "    }\n",
       "</style>\n",
       "<table border=\"1\" class=\"dataframe\">\n",
       "  <thead>\n",
       "    <tr style=\"text-align: right;\">\n",
       "      <th></th>\n",
       "      <th>Date</th>\n",
       "      <th>Time</th>\n",
       "      <th>Status</th>\n",
       "    </tr>\n",
       "  </thead>\n",
       "  <tbody>\n",
       "    <tr>\n",
       "      <th>2</th>\n",
       "      <td>07/01/2014</td>\n",
       "      <td>08:00 AM</td>\n",
       "      <td>Assigned</td>\n",
       "    </tr>\n",
       "    <tr>\n",
       "      <th>3</th>\n",
       "      <td>07/01/2014</td>\n",
       "      <td>09:00 AM</td>\n",
       "      <td>Assigned</td>\n",
       "    </tr>\n",
       "  </tbody>\n",
       "</table>\n",
       "</div>"
      ],
      "text/plain": [
       "         Date      Time    Status\n",
       "2  07/01/2014  08:00 AM  Assigned\n",
       "3  07/01/2014  09:00 AM  Assigned"
      ]
     },
     "execution_count": 58,
     "metadata": {},
     "output_type": "execute_result"
    }
   ],
   "source": [
    "df_status.iloc[2:4] # a slice of rows"
   ]
  },
  {
   "cell_type": "code",
   "execution_count": 59,
   "metadata": {},
   "outputs": [
    {
     "data": {
      "text/html": [
       "<div>\n",
       "<style scoped>\n",
       "    .dataframe tbody tr th:only-of-type {\n",
       "        vertical-align: middle;\n",
       "    }\n",
       "\n",
       "    .dataframe tbody tr th {\n",
       "        vertical-align: top;\n",
       "    }\n",
       "\n",
       "    .dataframe thead th {\n",
       "        text-align: right;\n",
       "    }\n",
       "</style>\n",
       "<table border=\"1\" class=\"dataframe\">\n",
       "  <thead>\n",
       "    <tr style=\"text-align: right;\">\n",
       "      <th></th>\n",
       "      <th>Date</th>\n",
       "      <th>Time</th>\n",
       "      <th>Status</th>\n",
       "    </tr>\n",
       "  </thead>\n",
       "  <tbody>\n",
       "    <tr>\n",
       "      <th>2</th>\n",
       "      <td>07/01/2014</td>\n",
       "      <td>08:00 AM</td>\n",
       "      <td>Assigned</td>\n",
       "    </tr>\n",
       "    <tr>\n",
       "      <th>3</th>\n",
       "      <td>07/01/2014</td>\n",
       "      <td>09:00 AM</td>\n",
       "      <td>Assigned</td>\n",
       "    </tr>\n",
       "    <tr>\n",
       "      <th>4</th>\n",
       "      <td>07/01/2014</td>\n",
       "      <td>09:30 AM</td>\n",
       "      <td>Assigned</td>\n",
       "    </tr>\n",
       "  </tbody>\n",
       "</table>\n",
       "</div>"
      ],
      "text/plain": [
       "         Date      Time    Status\n",
       "2  07/01/2014  08:00 AM  Assigned\n",
       "3  07/01/2014  09:00 AM  Assigned\n",
       "4  07/01/2014  09:30 AM  Assigned"
      ]
     },
     "execution_count": 59,
     "metadata": {},
     "output_type": "execute_result"
    }
   ],
   "source": [
    "df_status.loc[2:4] # did you notice any difference?"
   ]
  },
  {
   "cell_type": "markdown",
   "metadata": {},
   "source": [
    "```\n",
    "df_status.iloc[:]  # get all rows\n",
    "df_status.iloc[0:len(df_status)] # SAME\n",
    "```"
   ]
  },
  {
   "cell_type": "markdown",
   "metadata": {},
   "source": [
    "#### Indexing both rows and columns"
   ]
  },
  {
   "cell_type": "code",
   "execution_count": 60,
   "metadata": {},
   "outputs": [
    {
     "data": {
      "text/plain": [
       "0     07/01/2014\n",
       "1     07/01/2014\n",
       "2     07/01/2014\n",
       "3     07/01/2014\n",
       "4     07/01/2014\n",
       "         ...    \n",
       "94    07/21/2014\n",
       "95    07/21/2014\n",
       "96    07/21/2014\n",
       "97    07/21/2014\n",
       "98    07/22/2014\n",
       "Name: Date, Length: 99, dtype: object"
      ]
     },
     "execution_count": 60,
     "metadata": {},
     "output_type": "execute_result"
    }
   ],
   "source": [
    "df_status.iloc[:,0] # get all rows for column at position 0 ('Date') as a Series\n",
    "#df_status.iloc[0:len(df_status),0] # SAME"
   ]
  },
  {
   "cell_type": "markdown",
   "metadata": {},
   "source": [
    "<div class=\"alert alert-block alert-success\">\n",
    "    \n",
    "When we have too many columns, maybe it's easier to use the actual column names to index. Then the `loc` operator is a better friend:\n",
    "    \n",
    "</div>"
   ]
  },
  {
   "cell_type": "code",
   "execution_count": 61,
   "metadata": {},
   "outputs": [
    {
     "data": {
      "text/plain": [
       "Time      07:30 AM\n",
       "Status     Arrived\n",
       "Name: 1, dtype: object"
      ]
     },
     "execution_count": 61,
     "metadata": {},
     "output_type": "execute_result"
    }
   ],
   "source": [
    "df_status.loc[1,['Time','Status']]"
   ]
  },
  {
   "cell_type": "markdown",
   "metadata": {},
   "source": [
    "<div class=\"alert alert-block alert-success\">\n",
    "    \n",
    "<b> So many ways to do indexing!\n",
    "When are `[...]`, `iloc` and `loc` the same or different?</b>\n",
    "    \n",
    "In the following cases, they are the same:\n",
    "\n",
    "<ol>\n",
    "    \n",
    "<li>Selecting a single column \"A\":  df['A'] is the same as df.loc[:, 'A']. </li>\n",
    "<li>    Selecting a list of columns df[['A', 'B', 'C']] is the same as df.loc[:, ['A', 'B', 'C']] </li>\n",
    "<li>Slicing by rows df[1:3] is the same as df.iloc[1:3] -> selects rows 1 and 2. Note, however, if you slice rows with loc, instead of iloc, you'll get rows 1, 2 and 3. </li>\n",
    "</ol>\n",
    "\n",
    "In the following cases, they are the different, specifically, `[...]` doesn't work:\n",
    "\n",
    "<ol>\n",
    "    \n",
    "<li>You can select a single row with df.loc[row_label]. </li>\n",
    "<li>    You can select a list of rows with df.loc[[row_label1, row_label2]]</li>\n",
    "<li>You can slice columns with df.loc[:, 'A':'C']</li>\n",
    "</ol>\n",
    "    \n",
    "</div>"
   ]
  },
  {
   "cell_type": "markdown",
   "metadata": {},
   "source": [
    "Another very useful operation is to set the index to one of the columns of the data frame. We see this a lot in time series:"
   ]
  },
  {
   "cell_type": "code",
   "execution_count": 62,
   "metadata": {},
   "outputs": [
    {
     "data": {
      "text/html": [
       "<div>\n",
       "<style scoped>\n",
       "    .dataframe tbody tr th:only-of-type {\n",
       "        vertical-align: middle;\n",
       "    }\n",
       "\n",
       "    .dataframe tbody tr th {\n",
       "        vertical-align: top;\n",
       "    }\n",
       "\n",
       "    .dataframe thead th {\n",
       "        text-align: right;\n",
       "    }\n",
       "</style>\n",
       "<table border=\"1\" class=\"dataframe\">\n",
       "  <thead>\n",
       "    <tr style=\"text-align: right;\">\n",
       "      <th></th>\n",
       "      <th>Time</th>\n",
       "      <th>Status</th>\n",
       "    </tr>\n",
       "    <tr>\n",
       "      <th>Date</th>\n",
       "      <th></th>\n",
       "      <th></th>\n",
       "    </tr>\n",
       "  </thead>\n",
       "  <tbody>\n",
       "    <tr>\n",
       "      <th>07/01/2014</th>\n",
       "      <td>07:15 AM</td>\n",
       "      <td>Cancelled</td>\n",
       "    </tr>\n",
       "    <tr>\n",
       "      <th>07/01/2014</th>\n",
       "      <td>07:30 AM</td>\n",
       "      <td>Arrived</td>\n",
       "    </tr>\n",
       "    <tr>\n",
       "      <th>07/01/2014</th>\n",
       "      <td>08:00 AM</td>\n",
       "      <td>Assigned</td>\n",
       "    </tr>\n",
       "    <tr>\n",
       "      <th>07/01/2014</th>\n",
       "      <td>09:00 AM</td>\n",
       "      <td>Assigned</td>\n",
       "    </tr>\n",
       "    <tr>\n",
       "      <th>07/01/2014</th>\n",
       "      <td>09:30 AM</td>\n",
       "      <td>Assigned</td>\n",
       "    </tr>\n",
       "  </tbody>\n",
       "</table>\n",
       "</div>"
      ],
      "text/plain": [
       "                Time     Status\n",
       "Date                           \n",
       "07/01/2014  07:15 AM  Cancelled\n",
       "07/01/2014  07:30 AM    Arrived\n",
       "07/01/2014  08:00 AM   Assigned\n",
       "07/01/2014  09:00 AM   Assigned\n",
       "07/01/2014  09:30 AM   Assigned"
      ]
     },
     "execution_count": 62,
     "metadata": {},
     "output_type": "execute_result"
    }
   ],
   "source": [
    "df_status = df_status.set_index('Date')   \n",
    "df_status.head(5)"
   ]
  },
  {
   "cell_type": "markdown",
   "metadata": {},
   "source": [
    "Then we can conveniently ask for all rows with a specific date using the index:"
   ]
  },
  {
   "cell_type": "code",
   "execution_count": 63,
   "metadata": {},
   "outputs": [
    {
     "data": {
      "text/html": [
       "<div>\n",
       "<style scoped>\n",
       "    .dataframe tbody tr th:only-of-type {\n",
       "        vertical-align: middle;\n",
       "    }\n",
       "\n",
       "    .dataframe tbody tr th {\n",
       "        vertical-align: top;\n",
       "    }\n",
       "\n",
       "    .dataframe thead th {\n",
       "        text-align: right;\n",
       "    }\n",
       "</style>\n",
       "<table border=\"1\" class=\"dataframe\">\n",
       "  <thead>\n",
       "    <tr style=\"text-align: right;\">\n",
       "      <th></th>\n",
       "      <th>Time</th>\n",
       "      <th>Status</th>\n",
       "    </tr>\n",
       "    <tr>\n",
       "      <th>Date</th>\n",
       "      <th></th>\n",
       "      <th></th>\n",
       "    </tr>\n",
       "  </thead>\n",
       "  <tbody>\n",
       "    <tr>\n",
       "      <th>07/03/2014</th>\n",
       "      <td>05:00 AM</td>\n",
       "      <td>Arrived</td>\n",
       "    </tr>\n",
       "    <tr>\n",
       "      <th>07/03/2014</th>\n",
       "      <td>05:45 AM</td>\n",
       "      <td>Assigned</td>\n",
       "    </tr>\n",
       "    <tr>\n",
       "      <th>07/03/2014</th>\n",
       "      <td>06:55 AM</td>\n",
       "      <td>Arrived</td>\n",
       "    </tr>\n",
       "  </tbody>\n",
       "</table>\n",
       "</div>"
      ],
      "text/plain": [
       "                Time    Status\n",
       "Date                          \n",
       "07/03/2014  05:00 AM   Arrived\n",
       "07/03/2014  05:45 AM  Assigned\n",
       "07/03/2014  06:55 AM   Arrived"
      ]
     },
     "execution_count": 63,
     "metadata": {},
     "output_type": "execute_result"
    }
   ],
   "source": [
    "df_status.loc['07/03/2014'].head(3)"
   ]
  },
  {
   "cell_type": "markdown",
   "metadata": {},
   "source": [
    "We can reset the index as well to make the index become a column again:"
   ]
  },
  {
   "cell_type": "code",
   "execution_count": 64,
   "metadata": {},
   "outputs": [
    {
     "data": {
      "text/html": [
       "<div>\n",
       "<style scoped>\n",
       "    .dataframe tbody tr th:only-of-type {\n",
       "        vertical-align: middle;\n",
       "    }\n",
       "\n",
       "    .dataframe tbody tr th {\n",
       "        vertical-align: top;\n",
       "    }\n",
       "\n",
       "    .dataframe thead th {\n",
       "        text-align: right;\n",
       "    }\n",
       "</style>\n",
       "<table border=\"1\" class=\"dataframe\">\n",
       "  <thead>\n",
       "    <tr style=\"text-align: right;\">\n",
       "      <th></th>\n",
       "      <th>Date</th>\n",
       "      <th>Time</th>\n",
       "      <th>Status</th>\n",
       "    </tr>\n",
       "  </thead>\n",
       "  <tbody>\n",
       "    <tr>\n",
       "      <th>0</th>\n",
       "      <td>07/01/2014</td>\n",
       "      <td>07:15 AM</td>\n",
       "      <td>Cancelled</td>\n",
       "    </tr>\n",
       "    <tr>\n",
       "      <th>1</th>\n",
       "      <td>07/01/2014</td>\n",
       "      <td>07:30 AM</td>\n",
       "      <td>Arrived</td>\n",
       "    </tr>\n",
       "    <tr>\n",
       "      <th>2</th>\n",
       "      <td>07/01/2014</td>\n",
       "      <td>08:00 AM</td>\n",
       "      <td>Assigned</td>\n",
       "    </tr>\n",
       "  </tbody>\n",
       "</table>\n",
       "</div>"
      ],
      "text/plain": [
       "         Date      Time     Status\n",
       "0  07/01/2014  07:15 AM  Cancelled\n",
       "1  07/01/2014  07:30 AM    Arrived\n",
       "2  07/01/2014  08:00 AM   Assigned"
      ]
     },
     "execution_count": 64,
     "metadata": {},
     "output_type": "execute_result"
    }
   ],
   "source": [
    "df_status = df_status.reset_index()\n",
    "df_status.head(3)"
   ]
  },
  {
   "cell_type": "markdown",
   "metadata": {},
   "source": [
    "### b. Functions on columns\n",
    "\n",
    "As we did in the section on series, we can apply functions to columns in a data frame. A very common task is to look at the unique values:"
   ]
  },
  {
   "cell_type": "code",
   "execution_count": 65,
   "metadata": {},
   "outputs": [
    {
     "data": {
      "text/plain": [
       "array(['Cancelled', 'Arrived', 'Assigned'], dtype=object)"
      ]
     },
     "execution_count": 65,
     "metadata": {},
     "output_type": "execute_result"
    }
   ],
   "source": [
    "df_status['Status'].unique()"
   ]
  },
  {
   "cell_type": "markdown",
   "metadata": {},
   "source": [
    "We can also ask for the count for each unique value:"
   ]
  },
  {
   "cell_type": "code",
   "execution_count": 66,
   "metadata": {},
   "outputs": [
    {
     "data": {
      "text/plain": [
       "Status\n",
       "Arrived      58\n",
       "Assigned     32\n",
       "Cancelled     9\n",
       "Name: count, dtype: int64"
      ]
     },
     "execution_count": 66,
     "metadata": {},
     "output_type": "execute_result"
    }
   ],
   "source": [
    "df_status['Status'].value_counts()"
   ]
  },
  {
   "cell_type": "markdown",
   "metadata": {},
   "source": [
    "Because the columns are retrieved as series objects, we can do the same column arithmetic:"
   ]
  },
  {
   "cell_type": "code",
   "execution_count": 67,
   "metadata": {},
   "outputs": [
    {
     "data": {
      "text/plain": [
       "0      0.005137\n",
       "1      0.004062\n",
       "2      0.005239\n",
       "3      0.004661\n",
       "4      0.004929\n",
       "         ...   \n",
       "387    0.009677\n",
       "388    0.020657\n",
       "389    0.013943\n",
       "390    0.010667\n",
       "391    0.011397\n",
       "Length: 392, dtype: float64"
      ]
     },
     "execution_count": 67,
     "metadata": {},
     "output_type": "execute_result"
    }
   ],
   "source": [
    "df_cars['MPG']/df_cars['WGT']"
   ]
  },
  {
   "cell_type": "markdown",
   "metadata": {},
   "source": [
    "### c. Missing values in a data frame\n",
    "\n",
    "Returning to our friend the missing value, we can ask for a matrix of Boolean values indicating whether a specific row and column value is missing:"
   ]
  },
  {
   "cell_type": "code",
   "execution_count": 68,
   "metadata": {},
   "outputs": [
    {
     "data": {
      "text/html": [
       "<div>\n",
       "<style scoped>\n",
       "    .dataframe tbody tr th:only-of-type {\n",
       "        vertical-align: middle;\n",
       "    }\n",
       "\n",
       "    .dataframe tbody tr th {\n",
       "        vertical-align: top;\n",
       "    }\n",
       "\n",
       "    .dataframe thead th {\n",
       "        text-align: right;\n",
       "    }\n",
       "</style>\n",
       "<table border=\"1\" class=\"dataframe\">\n",
       "  <thead>\n",
       "    <tr style=\"text-align: right;\">\n",
       "      <th></th>\n",
       "      <th>Date</th>\n",
       "      <th>Time</th>\n",
       "      <th>Status</th>\n",
       "    </tr>\n",
       "  </thead>\n",
       "  <tbody>\n",
       "    <tr>\n",
       "      <th>0</th>\n",
       "      <td>False</td>\n",
       "      <td>False</td>\n",
       "      <td>False</td>\n",
       "    </tr>\n",
       "    <tr>\n",
       "      <th>1</th>\n",
       "      <td>False</td>\n",
       "      <td>False</td>\n",
       "      <td>False</td>\n",
       "    </tr>\n",
       "    <tr>\n",
       "      <th>2</th>\n",
       "      <td>False</td>\n",
       "      <td>False</td>\n",
       "      <td>False</td>\n",
       "    </tr>\n",
       "    <tr>\n",
       "      <th>3</th>\n",
       "      <td>False</td>\n",
       "      <td>False</td>\n",
       "      <td>False</td>\n",
       "    </tr>\n",
       "    <tr>\n",
       "      <th>4</th>\n",
       "      <td>False</td>\n",
       "      <td>False</td>\n",
       "      <td>False</td>\n",
       "    </tr>\n",
       "  </tbody>\n",
       "</table>\n",
       "</div>"
      ],
      "text/plain": [
       "    Date   Time  Status\n",
       "0  False  False   False\n",
       "1  False  False   False\n",
       "2  False  False   False\n",
       "3  False  False   False\n",
       "4  False  False   False"
      ]
     },
     "execution_count": 68,
     "metadata": {},
     "output_type": "execute_result"
    }
   ],
   "source": [
    "df_status.isnull().head(5) "
   ]
  },
  {
   "cell_type": "code",
   "execution_count": 69,
   "metadata": {},
   "outputs": [
    {
     "data": {
      "text/plain": [
       "Date      0\n",
       "Time      0\n",
       "Status    0\n",
       "dtype: int64"
      ]
     },
     "execution_count": 69,
     "metadata": {},
     "output_type": "execute_result"
    }
   ],
   "source": [
    "# how many in each column are missing? it turns out none are missing:\n",
    "df_status.isnull().sum()  "
   ]
  },
  {
   "cell_type": "code",
   "execution_count": 70,
   "metadata": {},
   "outputs": [
    {
     "data": {
      "text/plain": [
       "0     0\n",
       "1     0\n",
       "2     0\n",
       "3     0\n",
       "4     0\n",
       "     ..\n",
       "94    0\n",
       "95    0\n",
       "96    0\n",
       "97    0\n",
       "98    0\n",
       "Length: 99, dtype: int64"
      ]
     },
     "execution_count": 70,
     "metadata": {},
     "output_type": "execute_result"
    }
   ],
   "source": [
    " # how many in each row are missing?\n",
    "df_status.isnull().sum(axis=1)"
   ]
  },
  {
   "cell_type": "code",
   "execution_count": 71,
   "metadata": {},
   "outputs": [
    {
     "data": {
      "text/plain": [
       "Date      False\n",
       "Time      False\n",
       "Status    False\n",
       "dtype: bool"
      ]
     },
     "execution_count": 71,
     "metadata": {},
     "output_type": "execute_result"
    }
   ],
   "source": [
    "# don't care about the count, just want to know if there is any absence of values\n",
    "df_status.isnull().any() "
   ]
  },
  {
   "cell_type": "markdown",
   "metadata": {},
   "source": [
    "<div class=\"alert alert-block alert-danger\">\n",
    "    \n",
    "<b> Practice 5</b>\n",
    "           \n",
    "<ol>\n",
    "    \n",
    "<li>Download and read the dataset `titanic.csv`. </li>\n",
    "<li>Check the unique value and count of each value of \"Survived\". </li> \n",
    "<li>Check if there is any missingness in each column. </li>\n",
    "<li>Check the number of missing values in \"Embarked\". </li>\n",
    "</ol>\n",
    "</div>"
   ]
  },
  {
   "cell_type": "markdown",
   "metadata": {},
   "source": [
    "### d. Altering data frames\n",
    "\n",
    "We often want to alter the values in a data frame, such as when we clean up data in preparation for modeling. We can set individual values, rows, or entire columns."
   ]
  },
  {
   "cell_type": "code",
   "execution_count": 72,
   "metadata": {},
   "outputs": [
    {
     "data": {
      "text/html": [
       "<div>\n",
       "<style scoped>\n",
       "    .dataframe tbody tr th:only-of-type {\n",
       "        vertical-align: middle;\n",
       "    }\n",
       "\n",
       "    .dataframe tbody tr th {\n",
       "        vertical-align: top;\n",
       "    }\n",
       "\n",
       "    .dataframe thead th {\n",
       "        text-align: right;\n",
       "    }\n",
       "</style>\n",
       "<table border=\"1\" class=\"dataframe\">\n",
       "  <thead>\n",
       "    <tr style=\"text-align: right;\">\n",
       "      <th></th>\n",
       "      <th>Date</th>\n",
       "      <th>Time</th>\n",
       "      <th>Status</th>\n",
       "      <th>junk</th>\n",
       "    </tr>\n",
       "  </thead>\n",
       "  <tbody>\n",
       "    <tr>\n",
       "      <th>0</th>\n",
       "      <td>07/01/2014</td>\n",
       "      <td>07:15 AM</td>\n",
       "      <td>Cancelled</td>\n",
       "      <td>0</td>\n",
       "    </tr>\n",
       "    <tr>\n",
       "      <th>1</th>\n",
       "      <td>07/01/2014</td>\n",
       "      <td>07:30 AM</td>\n",
       "      <td>Arrived</td>\n",
       "      <td>0</td>\n",
       "    </tr>\n",
       "    <tr>\n",
       "      <th>2</th>\n",
       "      <td>07/01/2014</td>\n",
       "      <td>08:00 AM</td>\n",
       "      <td>Assigned</td>\n",
       "      <td>0</td>\n",
       "    </tr>\n",
       "  </tbody>\n",
       "</table>\n",
       "</div>"
      ],
      "text/plain": [
       "         Date      Time     Status  junk\n",
       "0  07/01/2014  07:15 AM  Cancelled     0\n",
       "1  07/01/2014  07:30 AM    Arrived     0\n",
       "2  07/01/2014  08:00 AM   Assigned     0"
      ]
     },
     "execution_count": 72,
     "metadata": {},
     "output_type": "execute_result"
    }
   ],
   "source": [
    "df_status['junk'] = 0      # insert a new column and set to 0\n",
    "df_status.head(3)"
   ]
  },
  {
   "cell_type": "code",
   "execution_count": 73,
   "metadata": {},
   "outputs": [
    {
     "data": {
      "text/html": [
       "<div>\n",
       "<style scoped>\n",
       "    .dataframe tbody tr th:only-of-type {\n",
       "        vertical-align: middle;\n",
       "    }\n",
       "\n",
       "    .dataframe tbody tr th {\n",
       "        vertical-align: top;\n",
       "    }\n",
       "\n",
       "    .dataframe thead th {\n",
       "        text-align: right;\n",
       "    }\n",
       "</style>\n",
       "<table border=\"1\" class=\"dataframe\">\n",
       "  <thead>\n",
       "    <tr style=\"text-align: right;\">\n",
       "      <th></th>\n",
       "      <th>Date</th>\n",
       "      <th>Time</th>\n",
       "      <th>Status</th>\n",
       "      <th>junk</th>\n",
       "    </tr>\n",
       "  </thead>\n",
       "  <tbody>\n",
       "    <tr>\n",
       "      <th>0</th>\n",
       "      <td>07/01/2014</td>\n",
       "      <td>07:15 AM</td>\n",
       "      <td>Cancelled</td>\n",
       "      <td>99</td>\n",
       "    </tr>\n",
       "    <tr>\n",
       "      <th>1</th>\n",
       "      <td>07/01/2014</td>\n",
       "      <td>07:30 AM</td>\n",
       "      <td>Arrived</td>\n",
       "      <td>99</td>\n",
       "    </tr>\n",
       "    <tr>\n",
       "      <th>2</th>\n",
       "      <td>07/01/2014</td>\n",
       "      <td>08:00 AM</td>\n",
       "      <td>Assigned</td>\n",
       "      <td>99</td>\n",
       "    </tr>\n",
       "  </tbody>\n",
       "</table>\n",
       "</div>"
      ],
      "text/plain": [
       "         Date      Time     Status  junk\n",
       "0  07/01/2014  07:15 AM  Cancelled    99\n",
       "1  07/01/2014  07:30 AM    Arrived    99\n",
       "2  07/01/2014  08:00 AM   Assigned    99"
      ]
     },
     "execution_count": 73,
     "metadata": {},
     "output_type": "execute_result"
    }
   ],
   "source": [
    "df_status['junk'] = 99     # overwrite a column with a single value\n",
    "df_status.head(3)"
   ]
  },
  {
   "cell_type": "code",
   "execution_count": 74,
   "metadata": {},
   "outputs": [
    {
     "data": {
      "text/html": [
       "<div>\n",
       "<style scoped>\n",
       "    .dataframe tbody tr th:only-of-type {\n",
       "        vertical-align: middle;\n",
       "    }\n",
       "\n",
       "    .dataframe tbody tr th {\n",
       "        vertical-align: top;\n",
       "    }\n",
       "\n",
       "    .dataframe thead th {\n",
       "        text-align: right;\n",
       "    }\n",
       "</style>\n",
       "<table border=\"1\" class=\"dataframe\">\n",
       "  <thead>\n",
       "    <tr style=\"text-align: right;\">\n",
       "      <th></th>\n",
       "      <th>Date</th>\n",
       "      <th>Time</th>\n",
       "      <th>Status</th>\n",
       "    </tr>\n",
       "  </thead>\n",
       "  <tbody>\n",
       "    <tr>\n",
       "      <th>0</th>\n",
       "      <td>07/01/2014</td>\n",
       "      <td>07:15 AM</td>\n",
       "      <td>Cancelled</td>\n",
       "    </tr>\n",
       "    <tr>\n",
       "      <th>1</th>\n",
       "      <td>07/01/2014</td>\n",
       "      <td>07:30 AM</td>\n",
       "      <td>Arrived</td>\n",
       "    </tr>\n",
       "    <tr>\n",
       "      <th>2</th>\n",
       "      <td>07/01/2014</td>\n",
       "      <td>08:00 AM</td>\n",
       "      <td>Assigned</td>\n",
       "    </tr>\n",
       "  </tbody>\n",
       "</table>\n",
       "</div>"
      ],
      "text/plain": [
       "         Date      Time     Status\n",
       "0  07/01/2014  07:15 AM  Cancelled\n",
       "1  07/01/2014  07:30 AM    Arrived\n",
       "2  07/01/2014  08:00 AM   Assigned"
      ]
     },
     "execution_count": 74,
     "metadata": {},
     "output_type": "execute_result"
    }
   ],
   "source": [
    "df_status = df_status.drop('junk', axis=1)    # axis=1 means drop a column\n",
    "df_status.head(3)"
   ]
  },
  {
   "cell_type": "markdown",
   "metadata": {},
   "source": [
    "Most of the time we are not deleting rows but we can do so using use `drop`.  Most likely we are asking for a subset of the data.  For example, here is how to find all trips that arrived:"
   ]
  },
  {
   "cell_type": "code",
   "execution_count": 75,
   "metadata": {},
   "outputs": [
    {
     "data": {
      "text/html": [
       "<div>\n",
       "<style scoped>\n",
       "    .dataframe tbody tr th:only-of-type {\n",
       "        vertical-align: middle;\n",
       "    }\n",
       "\n",
       "    .dataframe tbody tr th {\n",
       "        vertical-align: top;\n",
       "    }\n",
       "\n",
       "    .dataframe thead th {\n",
       "        text-align: right;\n",
       "    }\n",
       "</style>\n",
       "<table border=\"1\" class=\"dataframe\">\n",
       "  <thead>\n",
       "    <tr style=\"text-align: right;\">\n",
       "      <th></th>\n",
       "      <th>Date</th>\n",
       "      <th>Time</th>\n",
       "      <th>Status</th>\n",
       "    </tr>\n",
       "  </thead>\n",
       "  <tbody>\n",
       "    <tr>\n",
       "      <th>1</th>\n",
       "      <td>07/01/2014</td>\n",
       "      <td>07:30 AM</td>\n",
       "      <td>Arrived</td>\n",
       "    </tr>\n",
       "    <tr>\n",
       "      <th>5</th>\n",
       "      <td>07/01/2014</td>\n",
       "      <td>12:00 PM</td>\n",
       "      <td>Arrived</td>\n",
       "    </tr>\n",
       "    <tr>\n",
       "      <th>8</th>\n",
       "      <td>07/01/2014</td>\n",
       "      <td>02:30 PM</td>\n",
       "      <td>Arrived</td>\n",
       "    </tr>\n",
       "  </tbody>\n",
       "</table>\n",
       "</div>"
      ],
      "text/plain": [
       "         Date      Time   Status\n",
       "1  07/01/2014  07:30 AM  Arrived\n",
       "5  07/01/2014  12:00 PM  Arrived\n",
       "8  07/01/2014  02:30 PM  Arrived"
      ]
     },
     "execution_count": 75,
     "metadata": {},
     "output_type": "execute_result"
    }
   ],
   "source": [
    "df_status[df_status['Status']=='Arrived'].head(3)"
   ]
  },
  {
   "cell_type": "code",
   "execution_count": 76,
   "metadata": {},
   "outputs": [
    {
     "name": "stdout",
     "output_type": "stream",
     "text": [
      "         Date      Time     Status\n",
      "0  07/01/2014  07:15 AM  Cancelled\n",
      "1  07/01/2014  07:30 AM    Arrived\n",
      "2  07/01/2014  08:00 AM   Assigned\n"
     ]
    },
    {
     "data": {
      "text/html": [
       "<div>\n",
       "<style scoped>\n",
       "    .dataframe tbody tr th:only-of-type {\n",
       "        vertical-align: middle;\n",
       "    }\n",
       "\n",
       "    .dataframe tbody tr th {\n",
       "        vertical-align: top;\n",
       "    }\n",
       "\n",
       "    .dataframe thead th {\n",
       "        text-align: right;\n",
       "    }\n",
       "</style>\n",
       "<table border=\"1\" class=\"dataframe\">\n",
       "  <thead>\n",
       "    <tr style=\"text-align: right;\">\n",
       "      <th></th>\n",
       "      <th>Date</th>\n",
       "      <th>Time</th>\n",
       "      <th>Status</th>\n",
       "    </tr>\n",
       "  </thead>\n",
       "  <tbody>\n",
       "    <tr>\n",
       "      <th>0</th>\n",
       "      <td>07/01/2014</td>\n",
       "      <td>07:15 AM</td>\n",
       "      <td>Arrived</td>\n",
       "    </tr>\n",
       "    <tr>\n",
       "      <th>1</th>\n",
       "      <td>07/01/2014</td>\n",
       "      <td>07:30 AM</td>\n",
       "      <td>Arrived</td>\n",
       "    </tr>\n",
       "    <tr>\n",
       "      <th>2</th>\n",
       "      <td>07/01/2014</td>\n",
       "      <td>08:00 AM</td>\n",
       "      <td>Assigned</td>\n",
       "    </tr>\n",
       "  </tbody>\n",
       "</table>\n",
       "</div>"
      ],
      "text/plain": [
       "         Date      Time    Status\n",
       "0  07/01/2014  07:15 AM   Arrived\n",
       "1  07/01/2014  07:30 AM   Arrived\n",
       "2  07/01/2014  08:00 AM  Assigned"
      ]
     },
     "execution_count": 76,
     "metadata": {},
     "output_type": "execute_result"
    }
   ],
   "source": [
    "print(df_status.head(3))\n",
    "df_status.loc[0,'Status'] = 'Arrived'     # Update a single categorical value in one column\n",
    "df_status.head(3)"
   ]
  },
  {
   "cell_type": "markdown",
   "metadata": {},
   "source": [
    "<div class=\"alert alert-block alert-success\">\n",
    "    \n",
    "<b>WARNING</b>: Injecting a new column into, say, `df_status` is no problem as long as the data frame referred to is the entire data frame, and not a subset.  \n",
    "    \n",
    "For example, the following gets an error because I'm updating a \"slice\" of the original data frame.\n",
    "\n",
    "</div>"
   ]
  },
  {
   "cell_type": "code",
   "execution_count": 77,
   "metadata": {},
   "outputs": [
    {
     "name": "stderr",
     "output_type": "stream",
     "text": [
      "/var/folders/ys/9yhqqzxn453_1c837bs89r_m0000gn/T/ipykernel_6892/2067183322.py:2: SettingWithCopyWarning: \n",
      "A value is trying to be set on a copy of a slice from a DataFrame.\n",
      "Try using .loc[row_indexer,col_indexer] = value instead\n",
      "\n",
      "See the caveats in the documentation: https://pandas.pydata.org/pandas-docs/stable/user_guide/indexing.html#returning-a-view-versus-a-copy\n",
      "  df_x['foo'] = 0\n"
     ]
    }
   ],
   "source": [
    "df_x = df_status.iloc[5:10]\n",
    "df_x['foo'] = 0"
   ]
  },
  {
   "cell_type": "code",
   "execution_count": 78,
   "metadata": {},
   "outputs": [
    {
     "data": {
      "text/html": [
       "<div>\n",
       "<style scoped>\n",
       "    .dataframe tbody tr th:only-of-type {\n",
       "        vertical-align: middle;\n",
       "    }\n",
       "\n",
       "    .dataframe tbody tr th {\n",
       "        vertical-align: top;\n",
       "    }\n",
       "\n",
       "    .dataframe thead th {\n",
       "        text-align: right;\n",
       "    }\n",
       "</style>\n",
       "<table border=\"1\" class=\"dataframe\">\n",
       "  <thead>\n",
       "    <tr style=\"text-align: right;\">\n",
       "      <th></th>\n",
       "      <th>Date</th>\n",
       "      <th>Time</th>\n",
       "      <th>Status</th>\n",
       "      <th>foo</th>\n",
       "    </tr>\n",
       "  </thead>\n",
       "  <tbody>\n",
       "    <tr>\n",
       "      <th>5</th>\n",
       "      <td>07/01/2014</td>\n",
       "      <td>12:00 PM</td>\n",
       "      <td>Arrived</td>\n",
       "      <td>0</td>\n",
       "    </tr>\n",
       "    <tr>\n",
       "      <th>6</th>\n",
       "      <td>07/01/2014</td>\n",
       "      <td>12:30 PM</td>\n",
       "      <td>Assigned</td>\n",
       "      <td>0</td>\n",
       "    </tr>\n",
       "  </tbody>\n",
       "</table>\n",
       "</div>"
      ],
      "text/plain": [
       "         Date      Time    Status  foo\n",
       "5  07/01/2014  12:00 PM   Arrived    0\n",
       "6  07/01/2014  12:30 PM  Assigned    0"
      ]
     },
     "execution_count": 78,
     "metadata": {},
     "output_type": "execute_result"
    }
   ],
   "source": [
    "#solution: get a copy to define a new data frame\n",
    "df_x = df_status.iloc[5:10].copy()\n",
    "df_x['foo'] = 0\n",
    "df_x.head(2)"
   ]
  },
  {
   "cell_type": "markdown",
   "metadata": {},
   "source": [
    "### 1.3. The first steps of EDA using <kbd>pandas</kbd>\n",
    "    \n",
    "While we go through this material, keep in mind that there is a basic process you can follow when confronted with a new data set:\n",
    "\n",
    "<ol>\n",
    "<li>How many rows(records, obervations,...) are there?</li>\n",
    "<li>What are the column names and column datatypes?</li>\n",
    "<li>Look at the data to see if the assigned/current column datatypes makes sense</li>\n",
    "<li>Identify categorical columns, nominal and ordinal</li>\n",
    "<li>Compute basic summary statistics for numerical columns, such as min/max/mean/median/quantiles</li>\n",
    "<li>Compute basic summary tables for categorical columns, such as frequency and percentage of each category</li>\n",
    "<li>*Visualize* some or all of the numerical columns to examine their distributions</li>\n",
    "<li>Which columns have missing values? Watch out for sentinel values that are physically present, but indicate missing values (e.g., 0, -1, -999, 'none or unspecified', '')</li>\n",
    "</ol>\n"
   ]
  },
  {
   "cell_type": "markdown",
   "metadata": {},
   "source": [
    "### let's start \n",
    "\n",
    "In the beginning, let's\n",
    "\n",
    "\n",
    "- Check data types\n",
    "\n"
   ]
  },
  {
   "cell_type": "code",
   "execution_count": 79,
   "metadata": {},
   "outputs": [
    {
     "name": "stdout",
     "output_type": "stream",
     "text": [
      "<class 'pandas.core.frame.DataFrame'>\n",
      "RangeIndex: 99 entries, 0 to 98\n",
      "Data columns (total 7 columns):\n",
      " #   Column           Non-Null Count  Dtype \n",
      "---  ------           --------------  ----- \n",
      " 0   Date             99 non-null     object\n",
      " 1   Time             99 non-null     object\n",
      " 2   PU_Address       99 non-null     object\n",
      " 3   DO_Address       98 non-null     object\n",
      " 4   Routing Details  99 non-null     object\n",
      " 5   PU_Address.1     99 non-null     object\n",
      " 6   Status           99 non-null     object\n",
      "dtypes: object(7)\n",
      "memory usage: 5.5+ KB\n"
     ]
    }
   ],
   "source": [
    "df_uber.info()"
   ]
  },
  {
   "cell_type": "markdown",
   "metadata": {},
   "source": [
    "<div class=\"alert alert-block alert-success\">\n",
    "    \n",
    "Is anything looking wrong?\n",
    "\n",
    "</div>"
   ]
  },
  {
   "cell_type": "code",
   "execution_count": 80,
   "metadata": {},
   "outputs": [
    {
     "name": "stdout",
     "output_type": "stream",
     "text": [
      "<class 'pandas.core.frame.DataFrame'>\n",
      "RangeIndex: 99 entries, 0 to 98\n",
      "Data columns (total 7 columns):\n",
      " #   Column           Non-Null Count  Dtype         \n",
      "---  ------           --------------  -----         \n",
      " 0   Date             99 non-null     datetime64[ns]\n",
      " 1   Time             99 non-null     datetime64[ns]\n",
      " 2   PU_Address       99 non-null     object        \n",
      " 3   DO_Address       98 non-null     object        \n",
      " 4   Routing Details  99 non-null     object        \n",
      " 5   PU_Address.1     99 non-null     object        \n",
      " 6   Status           99 non-null     category      \n",
      "dtypes: category(1), datetime64[ns](2), object(4)\n",
      "memory usage: 5.0+ KB\n"
     ]
    },
    {
     "name": "stderr",
     "output_type": "stream",
     "text": [
      "/var/folders/ys/9yhqqzxn453_1c837bs89r_m0000gn/T/ipykernel_6892/3850062508.py:2: UserWarning: Could not infer format, so each element will be parsed individually, falling back to `dateutil`. To ensure parsing is consistent and as-expected, please specify a format.\n",
      "  df_uber = pd.read_csv(\"../data/kaggle-uber-other-federal.csv\",\n"
     ]
    }
   ],
   "source": [
    "#change types when reading the data\n",
    "df_uber = pd.read_csv(\"../data/kaggle-uber-other-federal.csv\",\n",
    "                      parse_dates=['Date','Time'],\n",
    "                      dtype={'Status':'category'})\n",
    "df_uber.info()\n"
   ]
  },
  {
   "cell_type": "markdown",
   "metadata": {},
   "source": [
    "<div class=\"alert alert-block alert-success\">\n",
    "    \n",
    "`dtype` can handle all numpy data types like strings, integers, floats, etc.. But `datetime` has to be changed by `parse_dates`.\n",
    "</div>"
   ]
  },
  {
   "cell_type": "markdown",
   "metadata": {},
   "source": [
    "<div class=\"alert alert-block alert-success\">\n",
    "\n",
    "When dealing with more complex data, often we can also change the data types *after* reading the csv. For example, use `pd.to_datetime()` to change to datetime type. We will practice that when doing more feature engineering in the EDA for real dataset examples. \n",
    "</div>"
   ]
  },
  {
   "cell_type": "code",
   "execution_count": 81,
   "metadata": {},
   "outputs": [
    {
     "data": {
      "text/html": [
       "<div>\n",
       "<style scoped>\n",
       "    .dataframe tbody tr th:only-of-type {\n",
       "        vertical-align: middle;\n",
       "    }\n",
       "\n",
       "    .dataframe tbody tr th {\n",
       "        vertical-align: top;\n",
       "    }\n",
       "\n",
       "    .dataframe thead th {\n",
       "        text-align: right;\n",
       "    }\n",
       "</style>\n",
       "<table border=\"1\" class=\"dataframe\">\n",
       "  <thead>\n",
       "    <tr style=\"text-align: right;\">\n",
       "      <th></th>\n",
       "      <th>Date</th>\n",
       "      <th>Time</th>\n",
       "      <th>PU_Address</th>\n",
       "      <th>DO_Address</th>\n",
       "      <th>Routing Details</th>\n",
       "      <th>PU_Address.1</th>\n",
       "      <th>Status</th>\n",
       "    </tr>\n",
       "  </thead>\n",
       "  <tbody>\n",
       "    <tr>\n",
       "      <th>0</th>\n",
       "      <td>2014-07-01</td>\n",
       "      <td>2025-07-12 07:15:00</td>\n",
       "      <td>Brooklyn Museum, 200 Eastern Pkwy., BK NY;</td>\n",
       "      <td>1 Brookdale Plaza, BK NY;</td>\n",
       "      <td>PU: Brooklyn Museum, 200 Eastern Pkwy., BK NY;...</td>\n",
       "      <td>Brooklyn Museum, 200 Eastern Pkwy., BK NY; DO:...</td>\n",
       "      <td>Cancelled</td>\n",
       "    </tr>\n",
       "    <tr>\n",
       "      <th>1</th>\n",
       "      <td>2014-07-01</td>\n",
       "      <td>2025-07-12 07:30:00</td>\n",
       "      <td>33 Robert Dr., Short Hills NJ;</td>\n",
       "      <td>John F Kennedy International Airport, vitona A...</td>\n",
       "      <td>PU: 33 Robert Dr., Short Hills NJ; DO: John F ...</td>\n",
       "      <td>33 Robert Dr., Short Hills NJ; DO: John F Kenn...</td>\n",
       "      <td>Arrived</td>\n",
       "    </tr>\n",
       "  </tbody>\n",
       "</table>\n",
       "</div>"
      ],
      "text/plain": [
       "        Date                Time                                  PU_Address  \\\n",
       "0 2014-07-01 2025-07-12 07:15:00  Brooklyn Museum, 200 Eastern Pkwy., BK NY;   \n",
       "1 2014-07-01 2025-07-12 07:30:00              33 Robert Dr., Short Hills NJ;   \n",
       "\n",
       "                                          DO_Address  \\\n",
       "0                         1 Brookdale Plaza, BK NY;    \n",
       "1  John F Kennedy International Airport, vitona A...   \n",
       "\n",
       "                                     Routing Details  \\\n",
       "0  PU: Brooklyn Museum, 200 Eastern Pkwy., BK NY;...   \n",
       "1  PU: 33 Robert Dr., Short Hills NJ; DO: John F ...   \n",
       "\n",
       "                                        PU_Address.1     Status  \n",
       "0  Brooklyn Museum, 200 Eastern Pkwy., BK NY; DO:...  Cancelled  \n",
       "1  33 Robert Dr., Short Hills NJ; DO: John F Kenn...    Arrived  "
      ]
     },
     "execution_count": 81,
     "metadata": {},
     "output_type": "execute_result"
    }
   ],
   "source": [
    "#check your data every time you make changes\n",
    "df_uber.head(2)"
   ]
  },
  {
   "cell_type": "markdown",
   "metadata": {},
   "source": [
    "Ooops. That `Time` column got today's date added on. Convert to just time info:"
   ]
  },
  {
   "cell_type": "code",
   "execution_count": 82,
   "metadata": {},
   "outputs": [
    {
     "data": {
      "text/html": [
       "<div>\n",
       "<style scoped>\n",
       "    .dataframe tbody tr th:only-of-type {\n",
       "        vertical-align: middle;\n",
       "    }\n",
       "\n",
       "    .dataframe tbody tr th {\n",
       "        vertical-align: top;\n",
       "    }\n",
       "\n",
       "    .dataframe thead th {\n",
       "        text-align: right;\n",
       "    }\n",
       "</style>\n",
       "<table border=\"1\" class=\"dataframe\">\n",
       "  <thead>\n",
       "    <tr style=\"text-align: right;\">\n",
       "      <th></th>\n",
       "      <th>Date</th>\n",
       "      <th>Time</th>\n",
       "      <th>PU_Address</th>\n",
       "      <th>DO_Address</th>\n",
       "      <th>Routing Details</th>\n",
       "      <th>PU_Address.1</th>\n",
       "      <th>Status</th>\n",
       "    </tr>\n",
       "  </thead>\n",
       "  <tbody>\n",
       "    <tr>\n",
       "      <th>0</th>\n",
       "      <td>2014-07-01</td>\n",
       "      <td>07:15:00</td>\n",
       "      <td>Brooklyn Museum, 200 Eastern Pkwy., BK NY;</td>\n",
       "      <td>1 Brookdale Plaza, BK NY;</td>\n",
       "      <td>PU: Brooklyn Museum, 200 Eastern Pkwy., BK NY;...</td>\n",
       "      <td>Brooklyn Museum, 200 Eastern Pkwy., BK NY; DO:...</td>\n",
       "      <td>Cancelled</td>\n",
       "    </tr>\n",
       "    <tr>\n",
       "      <th>1</th>\n",
       "      <td>2014-07-01</td>\n",
       "      <td>07:30:00</td>\n",
       "      <td>33 Robert Dr., Short Hills NJ;</td>\n",
       "      <td>John F Kennedy International Airport, vitona A...</td>\n",
       "      <td>PU: 33 Robert Dr., Short Hills NJ; DO: John F ...</td>\n",
       "      <td>33 Robert Dr., Short Hills NJ; DO: John F Kenn...</td>\n",
       "      <td>Arrived</td>\n",
       "    </tr>\n",
       "  </tbody>\n",
       "</table>\n",
       "</div>"
      ],
      "text/plain": [
       "        Date      Time                                  PU_Address  \\\n",
       "0 2014-07-01  07:15:00  Brooklyn Museum, 200 Eastern Pkwy., BK NY;   \n",
       "1 2014-07-01  07:30:00              33 Robert Dr., Short Hills NJ;   \n",
       "\n",
       "                                          DO_Address  \\\n",
       "0                         1 Brookdale Plaza, BK NY;    \n",
       "1  John F Kennedy International Airport, vitona A...   \n",
       "\n",
       "                                     Routing Details  \\\n",
       "0  PU: Brooklyn Museum, 200 Eastern Pkwy., BK NY;...   \n",
       "1  PU: 33 Robert Dr., Short Hills NJ; DO: John F ...   \n",
       "\n",
       "                                        PU_Address.1     Status  \n",
       "0  Brooklyn Museum, 200 Eastern Pkwy., BK NY; DO:...  Cancelled  \n",
       "1  33 Robert Dr., Short Hills NJ; DO: John F Kenn...    Arrived  "
      ]
     },
     "execution_count": 82,
     "metadata": {},
     "output_type": "execute_result"
    }
   ],
   "source": [
    "#a taste of handling datetime columns\n",
    "df_uber['Time'] = df_uber['Time'].dt.time #dt. time to extract just time\n",
    "df_uber.head(2)"
   ]
  },
  {
   "cell_type": "markdown",
   "metadata": {},
   "source": [
    "\n",
    "### Initial sniff of your data\n",
    "\n",
    "Now we have the data read into Python with correct type, we can \n",
    "\n",
    "- Get the shape of the data\n",
    "- Get some summary statistics \n",
    "- Convert, transform or create columns for a further check"
   ]
  },
  {
   "cell_type": "markdown",
   "metadata": {},
   "source": [
    "#### - Get the shape of the data\n",
    "\n",
    "You want to know the number of rows (records) and number of columns (variables/features) of your dataset. We also want to know the names of the columns which is provided by info() but we can ask for it explicitly, which is useful because we sometimes want to operate on the column names.\n",
    "\n",
    "* Let start with the cars data:\n"
   ]
  },
  {
   "cell_type": "code",
   "execution_count": 83,
   "metadata": {},
   "outputs": [
    {
     "name": "stdout",
     "output_type": "stream",
     "text": [
      "<class 'pandas.core.frame.DataFrame'>\n",
      "RangeIndex: 392 entries, 0 to 391\n",
      "Data columns (total 4 columns):\n",
      " #   Column  Non-Null Count  Dtype  \n",
      "---  ------  --------------  -----  \n",
      " 0   MPG     392 non-null    float64\n",
      " 1   CYL     392 non-null    int64  \n",
      " 2   ENG     392 non-null    float64\n",
      " 3   WGT     392 non-null    int64  \n",
      "dtypes: float64(2), int64(2)\n",
      "memory usage: 12.4 KB\n"
     ]
    }
   ],
   "source": [
    "df_cars.info()"
   ]
  },
  {
   "cell_type": "code",
   "execution_count": 84,
   "metadata": {},
   "outputs": [
    {
     "data": {
      "text/plain": [
       "(392, 4)"
      ]
     },
     "execution_count": 84,
     "metadata": {},
     "output_type": "execute_result"
    }
   ],
   "source": [
    "df_cars.shape\n"
   ]
  },
  {
   "cell_type": "code",
   "execution_count": 85,
   "metadata": {},
   "outputs": [
    {
     "data": {
      "text/plain": [
       "392"
      ]
     },
     "execution_count": 85,
     "metadata": {},
     "output_type": "execute_result"
    }
   ],
   "source": [
    "len(df_cars) # number of rows"
   ]
  },
  {
   "cell_type": "code",
   "execution_count": 86,
   "metadata": {},
   "outputs": [
    {
     "data": {
      "text/plain": [
       "(Index(['MPG', 'CYL', 'ENG', 'WGT'], dtype='object'),\n",
       " pandas.core.indexes.base.Index)"
      ]
     },
     "execution_count": 86,
     "metadata": {},
     "output_type": "execute_result"
    }
   ],
   "source": [
    "df_cars.columns, type(df_cars.columns) # gets a pandas `Index` object"
   ]
  },
  {
   "cell_type": "code",
   "execution_count": 87,
   "metadata": {},
   "outputs": [
    {
     "data": {
      "text/plain": [
       "(array(['MPG', 'CYL', 'ENG', 'WGT'], dtype=object), numpy.ndarray)"
      ]
     },
     "execution_count": 87,
     "metadata": {},
     "output_type": "execute_result"
    }
   ],
   "source": [
    "df_cars.columns.values, type(df_cars.columns.values) # gets a numpy version\n"
   ]
  },
  {
   "cell_type": "code",
   "execution_count": 88,
   "metadata": {},
   "outputs": [
    {
     "data": {
      "text/plain": [
       "['MPG', 'CYL', 'ENG', 'WGT']"
      ]
     },
     "execution_count": 88,
     "metadata": {},
     "output_type": "execute_result"
    }
   ],
   "source": [
    "list(df_cars.columns) # get a simple Python list of column names\n"
   ]
  },
  {
   "cell_type": "markdown",
   "metadata": {},
   "source": [
    "#### - Get some summary stats\n",
    "\n",
    "- Summary stats of **numeric columns** can be obtained easily using `dt.describe()`. Occasionally if you have observed extreme min and max values, you can also calculate \n",
    "```\n",
    "dt['col'].quantile([.0, 0.01, 0.25, .5, 0.75, 0.99, 1])\n",
    "``` \n",
    "to check the majority of the data.\n",
    "\n",
    "- Summary stats of **categorical columns** are normally summary tables with frequencies and proportions.  \n",
    "\n",
    "- Summary stats for more messy columns of string or object types are not that trivial. You need to do more feature engeering and graphical visualization instead. "
   ]
  },
  {
   "cell_type": "code",
   "execution_count": 89,
   "metadata": {},
   "outputs": [
    {
     "data": {
      "text/html": [
       "<div>\n",
       "<style scoped>\n",
       "    .dataframe tbody tr th:only-of-type {\n",
       "        vertical-align: middle;\n",
       "    }\n",
       "\n",
       "    .dataframe tbody tr th {\n",
       "        vertical-align: top;\n",
       "    }\n",
       "\n",
       "    .dataframe thead th {\n",
       "        text-align: right;\n",
       "    }\n",
       "</style>\n",
       "<table border=\"1\" class=\"dataframe\">\n",
       "  <thead>\n",
       "    <tr style=\"text-align: right;\">\n",
       "      <th></th>\n",
       "      <th>MPG</th>\n",
       "      <th>CYL</th>\n",
       "      <th>ENG</th>\n",
       "      <th>WGT</th>\n",
       "    </tr>\n",
       "  </thead>\n",
       "  <tbody>\n",
       "    <tr>\n",
       "      <th>count</th>\n",
       "      <td>392.000000</td>\n",
       "      <td>392.000000</td>\n",
       "      <td>392.000000</td>\n",
       "      <td>392.000000</td>\n",
       "    </tr>\n",
       "    <tr>\n",
       "      <th>mean</th>\n",
       "      <td>23.445918</td>\n",
       "      <td>5.471939</td>\n",
       "      <td>194.411990</td>\n",
       "      <td>2977.584184</td>\n",
       "    </tr>\n",
       "    <tr>\n",
       "      <th>std</th>\n",
       "      <td>7.805007</td>\n",
       "      <td>1.705783</td>\n",
       "      <td>104.644004</td>\n",
       "      <td>849.402560</td>\n",
       "    </tr>\n",
       "    <tr>\n",
       "      <th>min</th>\n",
       "      <td>9.000000</td>\n",
       "      <td>3.000000</td>\n",
       "      <td>68.000000</td>\n",
       "      <td>1613.000000</td>\n",
       "    </tr>\n",
       "    <tr>\n",
       "      <th>25%</th>\n",
       "      <td>17.000000</td>\n",
       "      <td>4.000000</td>\n",
       "      <td>105.000000</td>\n",
       "      <td>2225.250000</td>\n",
       "    </tr>\n",
       "    <tr>\n",
       "      <th>50%</th>\n",
       "      <td>22.750000</td>\n",
       "      <td>4.000000</td>\n",
       "      <td>151.000000</td>\n",
       "      <td>2803.500000</td>\n",
       "    </tr>\n",
       "    <tr>\n",
       "      <th>75%</th>\n",
       "      <td>29.000000</td>\n",
       "      <td>8.000000</td>\n",
       "      <td>275.750000</td>\n",
       "      <td>3614.750000</td>\n",
       "    </tr>\n",
       "    <tr>\n",
       "      <th>max</th>\n",
       "      <td>46.599998</td>\n",
       "      <td>8.000000</td>\n",
       "      <td>455.000000</td>\n",
       "      <td>5140.000000</td>\n",
       "    </tr>\n",
       "  </tbody>\n",
       "</table>\n",
       "</div>"
      ],
      "text/plain": [
       "              MPG         CYL         ENG          WGT\n",
       "count  392.000000  392.000000  392.000000   392.000000\n",
       "mean    23.445918    5.471939  194.411990  2977.584184\n",
       "std      7.805007    1.705783  104.644004   849.402560\n",
       "min      9.000000    3.000000   68.000000  1613.000000\n",
       "25%     17.000000    4.000000  105.000000  2225.250000\n",
       "50%     22.750000    4.000000  151.000000  2803.500000\n",
       "75%     29.000000    8.000000  275.750000  3614.750000\n",
       "max     46.599998    8.000000  455.000000  5140.000000"
      ]
     },
     "execution_count": 89,
     "metadata": {},
     "output_type": "execute_result"
    }
   ],
   "source": [
    "df_cars.describe()"
   ]
  },
  {
   "cell_type": "code",
   "execution_count": 90,
   "metadata": {},
   "outputs": [
    {
     "data": {
      "text/plain": [
       "0.00     9.000000\n",
       "0.01    11.000000\n",
       "0.25    17.000000\n",
       "0.50    22.750000\n",
       "0.75    29.000000\n",
       "0.99    43.454002\n",
       "1.00    46.599998\n",
       "Name: MPG, dtype: float64"
      ]
     },
     "execution_count": 90,
     "metadata": {},
     "output_type": "execute_result"
    }
   ],
   "source": [
    "df_cars['MPG'].quantile([.0, 0.01, 0.25, .5, 0.75, 0.99, 1])\n"
   ]
  },
  {
   "cell_type": "markdown",
   "metadata": {},
   "source": [
    "<div class=\"alert alert-block alert-success\">\n",
    "I think I can get more information for \"CYL\" if it is categorical, or ordinal, instead of a numeric feature. WHY?"
   ]
  },
  {
   "cell_type": "code",
   "execution_count": 91,
   "metadata": {},
   "outputs": [
    {
     "name": "stdout",
     "output_type": "stream",
     "text": [
      "<class 'pandas.core.series.Series'>\n",
      "0      8\n",
      "1      8\n",
      "2      8\n",
      "3      8\n",
      "4      8\n",
      "      ..\n",
      "387    4\n",
      "388    4\n",
      "389    4\n",
      "390    4\n",
      "391    4\n",
      "Name: CYL, Length: 392, dtype: int64\n"
     ]
    }
   ],
   "source": [
    "cyl = df_cars['CYL']   # Get a column\n",
    "print(type(cyl))\n",
    "print(cyl)"
   ]
  },
  {
   "cell_type": "code",
   "execution_count": 92,
   "metadata": {},
   "outputs": [
    {
     "name": "stdout",
     "output_type": "stream",
     "text": [
      "col_0  count\n",
      "CYL         \n",
      "3          4\n",
      "4        199\n",
      "5          3\n",
      "6         83\n",
      "8        103\n"
     ]
    }
   ],
   "source": [
    "#define frequency table\n",
    "tab = pd.crosstab(index=df_cars['CYL'], columns='count')\n",
    "print(tab)"
   ]
  },
  {
   "cell_type": "code",
   "execution_count": 93,
   "metadata": {},
   "outputs": [
    {
     "data": {
      "text/html": [
       "<div>\n",
       "<style scoped>\n",
       "    .dataframe tbody tr th:only-of-type {\n",
       "        vertical-align: middle;\n",
       "    }\n",
       "\n",
       "    .dataframe tbody tr th {\n",
       "        vertical-align: top;\n",
       "    }\n",
       "\n",
       "    .dataframe thead th {\n",
       "        text-align: right;\n",
       "    }\n",
       "</style>\n",
       "<table border=\"1\" class=\"dataframe\">\n",
       "  <thead>\n",
       "    <tr style=\"text-align: right;\">\n",
       "      <th>col_0</th>\n",
       "      <th>count</th>\n",
       "    </tr>\n",
       "    <tr>\n",
       "      <th>CYL</th>\n",
       "      <th></th>\n",
       "    </tr>\n",
       "  </thead>\n",
       "  <tbody>\n",
       "    <tr>\n",
       "      <th>3</th>\n",
       "      <td>0.010204</td>\n",
       "    </tr>\n",
       "    <tr>\n",
       "      <th>4</th>\n",
       "      <td>0.507653</td>\n",
       "    </tr>\n",
       "    <tr>\n",
       "      <th>5</th>\n",
       "      <td>0.007653</td>\n",
       "    </tr>\n",
       "    <tr>\n",
       "      <th>6</th>\n",
       "      <td>0.211735</td>\n",
       "    </tr>\n",
       "    <tr>\n",
       "      <th>8</th>\n",
       "      <td>0.262755</td>\n",
       "    </tr>\n",
       "  </tbody>\n",
       "</table>\n",
       "</div>"
      ],
      "text/plain": [
       "col_0     count\n",
       "CYL            \n",
       "3      0.010204\n",
       "4      0.507653\n",
       "5      0.007653\n",
       "6      0.211735\n",
       "8      0.262755"
      ]
     },
     "execution_count": 93,
     "metadata": {},
     "output_type": "execute_result"
    }
   ],
   "source": [
    "#find proportions \n",
    "tab/tab.sum()\n",
    "\n",
    "#or tab=pd.crosstab(index=df_cars['CYL'], columns='percentage', normalize='columns')"
   ]
  },
  {
   "cell_type": "markdown",
   "metadata": {},
   "source": [
    "#### -Convert, transform or create columns for a further check\n",
    "\n",
    "Let's say we are interested in the ratio of ENG to CYL, indicating the horsepower per cylinder"
   ]
  },
  {
   "cell_type": "code",
   "execution_count": 94,
   "metadata": {},
   "outputs": [
    {
     "data": {
      "text/html": [
       "<div>\n",
       "<style scoped>\n",
       "    .dataframe tbody tr th:only-of-type {\n",
       "        vertical-align: middle;\n",
       "    }\n",
       "\n",
       "    .dataframe tbody tr th {\n",
       "        vertical-align: top;\n",
       "    }\n",
       "\n",
       "    .dataframe thead th {\n",
       "        text-align: right;\n",
       "    }\n",
       "</style>\n",
       "<table border=\"1\" class=\"dataframe\">\n",
       "  <thead>\n",
       "    <tr style=\"text-align: right;\">\n",
       "      <th></th>\n",
       "      <th>MPG</th>\n",
       "      <th>CYL</th>\n",
       "      <th>ENG</th>\n",
       "      <th>WGT</th>\n",
       "      <th>ratio_ENG_CYL</th>\n",
       "    </tr>\n",
       "  </thead>\n",
       "  <tbody>\n",
       "    <tr>\n",
       "      <th>0</th>\n",
       "      <td>18.0</td>\n",
       "      <td>8</td>\n",
       "      <td>307.0</td>\n",
       "      <td>3504</td>\n",
       "      <td>38.375</td>\n",
       "    </tr>\n",
       "    <tr>\n",
       "      <th>1</th>\n",
       "      <td>15.0</td>\n",
       "      <td>8</td>\n",
       "      <td>350.0</td>\n",
       "      <td>3693</td>\n",
       "      <td>43.750</td>\n",
       "    </tr>\n",
       "    <tr>\n",
       "      <th>2</th>\n",
       "      <td>18.0</td>\n",
       "      <td>8</td>\n",
       "      <td>318.0</td>\n",
       "      <td>3436</td>\n",
       "      <td>39.750</td>\n",
       "    </tr>\n",
       "    <tr>\n",
       "      <th>3</th>\n",
       "      <td>16.0</td>\n",
       "      <td>8</td>\n",
       "      <td>304.0</td>\n",
       "      <td>3433</td>\n",
       "      <td>38.000</td>\n",
       "    </tr>\n",
       "    <tr>\n",
       "      <th>4</th>\n",
       "      <td>17.0</td>\n",
       "      <td>8</td>\n",
       "      <td>302.0</td>\n",
       "      <td>3449</td>\n",
       "      <td>37.750</td>\n",
       "    </tr>\n",
       "  </tbody>\n",
       "</table>\n",
       "</div>"
      ],
      "text/plain": [
       "    MPG  CYL    ENG   WGT  ratio_ENG_CYL\n",
       "0  18.0    8  307.0  3504         38.375\n",
       "1  15.0    8  350.0  3693         43.750\n",
       "2  18.0    8  318.0  3436         39.750\n",
       "3  16.0    8  304.0  3433         38.000\n",
       "4  17.0    8  302.0  3449         37.750"
      ]
     },
     "execution_count": 94,
     "metadata": {},
     "output_type": "execute_result"
    }
   ],
   "source": [
    "df_cars['ratio_ENG_CYL']=df_cars['ENG']/df_cars['CYL']\n",
    "df_cars.head()\n"
   ]
  },
  {
   "cell_type": "markdown",
   "metadata": {},
   "source": [
    "<div class=\"alert alert-block alert-danger\">\n",
    "<b>Practice 6</b>\n",
    "<ol>\n",
    "<li>Display the column names for df_titanic DataFrame.</li>\n",
    "<li>Display the number of rows for df_titanic DataFrame.</li>\n",
    "<li>Apply `dt.describe()` to df_titanic DataFrame. What results do you observe? Quickly check the information it has provided.</li>\n",
    "<li>Display the frequency and proportion table of \"Pclass\" from df_titanic.</li>\n",
    "</ol> "
   ]
  }
 ],
 "metadata": {
  "kernelspec": {
   "display_name": "eda",
   "language": "python",
   "name": "python3"
  },
  "language_info": {
   "codemirror_mode": {
    "name": "ipython",
    "version": 3
   },
   "file_extension": ".py",
   "mimetype": "text/x-python",
   "name": "python",
   "nbconvert_exporter": "python",
   "pygments_lexer": "ipython3",
   "version": "3.13.5"
  }
 },
 "nbformat": 4,
 "nbformat_minor": 4
}
